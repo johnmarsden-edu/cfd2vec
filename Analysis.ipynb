{
 "cells": [
  {
   "cell_type": "code",
   "execution_count": 1,
   "id": "e96f47ef-06c8-42fb-9ae3-ab873e5bef66",
   "metadata": {},
   "outputs": [],
   "source": [
    "# Import packages\n",
    "import pandas as pd\n",
    "import numpy as np\n",
    "import os\n",
    "import random\n",
    "import gc\n",
    "import pickle\n",
    "import math\n",
    "\n",
    "from sklearn.decomposition import PCA\n",
    "\n",
    "from sklearn.dummy import DummyRegressor\n",
    "from sklearn.linear_model import Ridge\n",
    "\n",
    "from sklearn.metrics import mean_absolute_error\n",
    "from sklearn.metrics import mean_squared_error\n",
    "from sklearn.model_selection import RandomizedSearchCV\n",
    "from sklearn.pipeline import Pipeline\n",
    "from scipy.stats import uniform"
   ]
  },
  {
   "cell_type": "code",
   "execution_count": 2,
   "id": "2f4a42b0-d716-41e4-b3dd-c788344b9176",
   "metadata": {},
   "outputs": [
    {
     "data": {
      "text/html": [
       "<div>\n",
       "<style scoped>\n",
       "    .dataframe tbody tr th:only-of-type {\n",
       "        vertical-align: middle;\n",
       "    }\n",
       "\n",
       "    .dataframe tbody tr th {\n",
       "        vertical-align: top;\n",
       "    }\n",
       "\n",
       "    .dataframe thead th {\n",
       "        text-align: right;\n",
       "    }\n",
       "</style>\n",
       "<table border=\"1\" class=\"dataframe\">\n",
       "  <thead>\n",
       "    <tr style=\"text-align: right;\">\n",
       "      <th></th>\n",
       "      <th>SubjectID</th>\n",
       "      <th>Assignment</th>\n",
       "      <th>CodeStateID</th>\n",
       "      <th>Score</th>\n",
       "      <th>ExamGrade</th>\n",
       "    </tr>\n",
       "  </thead>\n",
       "  <tbody>\n",
       "    <tr>\n",
       "      <th>0</th>\n",
       "      <td>014604ba54339d4b1266cf78e125053a5ac11dd861ef3c...</td>\n",
       "      <td>439-1</td>\n",
       "      <td>79c9e2da9bc703116d8768297056db22866c43d583e529...</td>\n",
       "      <td>1.0</td>\n",
       "      <td>0.97</td>\n",
       "    </tr>\n",
       "    <tr>\n",
       "      <th>1</th>\n",
       "      <td>014604ba54339d4b1266cf78e125053a5ac11dd861ef3c...</td>\n",
       "      <td>439-3</td>\n",
       "      <td>0e91ae5696da0d6a724380360147b8699a25c14ff46227...</td>\n",
       "      <td>1.0</td>\n",
       "      <td>0.97</td>\n",
       "    </tr>\n",
       "    <tr>\n",
       "      <th>2</th>\n",
       "      <td>014604ba54339d4b1266cf78e125053a5ac11dd861ef3c...</td>\n",
       "      <td>439-5</td>\n",
       "      <td>1b38c7b1c7ebca281bbbc270d1b896484de663045c715f...</td>\n",
       "      <td>1.0</td>\n",
       "      <td>0.97</td>\n",
       "    </tr>\n",
       "    <tr>\n",
       "      <th>3</th>\n",
       "      <td>014604ba54339d4b1266cf78e125053a5ac11dd861ef3c...</td>\n",
       "      <td>439-12</td>\n",
       "      <td>2a850f5de4aaf278f5752896aaee2df171a4a5f284ec8b...</td>\n",
       "      <td>1.0</td>\n",
       "      <td>0.97</td>\n",
       "    </tr>\n",
       "    <tr>\n",
       "      <th>4</th>\n",
       "      <td>014604ba54339d4b1266cf78e125053a5ac11dd861ef3c...</td>\n",
       "      <td>439-13</td>\n",
       "      <td>7ec7412b1bf528ea84551d5ef407d4b1682132332245e4...</td>\n",
       "      <td>1.0</td>\n",
       "      <td>0.97</td>\n",
       "    </tr>\n",
       "  </tbody>\n",
       "</table>\n",
       "</div>"
      ],
      "text/plain": [
       "                                           SubjectID Assignment  \\\n",
       "0  014604ba54339d4b1266cf78e125053a5ac11dd861ef3c...      439-1   \n",
       "1  014604ba54339d4b1266cf78e125053a5ac11dd861ef3c...      439-3   \n",
       "2  014604ba54339d4b1266cf78e125053a5ac11dd861ef3c...      439-5   \n",
       "3  014604ba54339d4b1266cf78e125053a5ac11dd861ef3c...     439-12   \n",
       "4  014604ba54339d4b1266cf78e125053a5ac11dd861ef3c...     439-13   \n",
       "\n",
       "                                         CodeStateID  Score  ExamGrade  \n",
       "0  79c9e2da9bc703116d8768297056db22866c43d583e529...    1.0       0.97  \n",
       "1  0e91ae5696da0d6a724380360147b8699a25c14ff46227...    1.0       0.97  \n",
       "2  1b38c7b1c7ebca281bbbc270d1b896484de663045c715f...    1.0       0.97  \n",
       "3  2a850f5de4aaf278f5752896aaee2df171a4a5f284ec8b...    1.0       0.97  \n",
       "4  7ec7412b1bf528ea84551d5ef407d4b1682132332245e4...    1.0       0.97  "
      ]
     },
     "execution_count": 2,
     "metadata": {},
     "output_type": "execute_result"
    }
   ],
   "source": [
    "# Load final exam and assignment data\n",
    "data = pd.DataFrame(columns=['SubjectID', 'Assignment', 'CodeStateID'])\n",
    "grades = {}\n",
    "scores = {}\n",
    "for directory in ['F19_All', 'S19_All']:\n",
    "  base_path = os.path.join('data', directory, 'Train' if directory == 'F19_All' else '')\n",
    "  grade_data = pd.read_csv(os.path.join(base_path, 'Data', 'LinkTables', 'Subject.csv'))\n",
    "  for row in grade_data.itertuples():\n",
    "    grades[row.SubjectID] = row._2 if directory == 'S19_All' else row._2 / 100\n",
    "  main = pd.read_csv(os.path.join(base_path, 'Data', 'MainTable.csv'))\n",
    "  for row in main[main['EventType'] == 'Run.Program'].itertuples():\n",
    "    scores[row.CodeStateID] = row.Score\n",
    "  main = main[(main['EventType'] == 'Compile') & (main['Compile.Result'] == 'Success')]\n",
    "  main['Assignment'] = [f'{x[0]}-{x[1]}' for x in list(zip(main['AssignmentID'], main['ProblemID']))]\n",
    "  data = pd.concat([data, main[['SubjectID', 'Assignment', 'CodeStateID']]], ignore_index=True)\n",
    "\n",
    "data['Score'] = [scores[x] for x in data['CodeStateID']]\n",
    "data['ExamGrade'] = [grades[x] if x in grades else 0 for x in data['SubjectID']]\n",
    "data.head()"
   ]
  },
  {
   "cell_type": "code",
   "execution_count": 3,
   "id": "1ff4e99d-492e-485c-b877-af5c34d9f55b",
   "metadata": {},
   "outputs": [
    {
     "data": {
      "text/plain": [
       "44"
      ]
     },
     "execution_count": 3,
     "metadata": {},
     "output_type": "execute_result"
    }
   ],
   "source": [
    "# Find the Code IDs for the submissions with the highest score for each student for each assignment\n",
    "students = list(data['SubjectID'].unique())\n",
    "assignments = data['Assignment'].unique()\n",
    "best_score_data = {}\n",
    "for student in students:\n",
    "  best_ids = [None] * len(assignments)\n",
    "  s_filter = data[data['SubjectID'] == student]\n",
    "  a_idx = 0\n",
    "  for assignment in assignments:\n",
    "    a_filter = s_filter[s_filter['Assignment'] == assignment].reset_index()\n",
    "    if len(a_filter.index) > 0:\n",
    "      best_ids[a_idx] = a_filter['CodeStateID'][np.argmax(a_filter['Score'])]\n",
    "    a_idx += 1\n",
    "  best_score_data[student] = best_ids\n",
    "best_score_data[students[0]][0:5]\n",
    "\n",
    "# Free some memory\n",
    "del scores\n",
    "del data\n",
    "gc.collect()"
   ]
  },
  {
   "cell_type": "code",
   "execution_count": 4,
   "id": "092dd730-cf92-4a36-bcae-7bd0baff8640",
   "metadata": {},
   "outputs": [
    {
     "name": "stdout",
     "output_type": "stream",
     "text": [
      "Train avg: 0.59 Test avg: 0.63\n",
      "Train dev: 0.25 Test dev: 0.23\n"
     ]
    }
   ],
   "source": [
    "# Divide data into 80% training data, 20% testing data\n",
    "random.seed(1)\n",
    "num_students = len(students)\n",
    "test_students = set(random.sample(students, int(num_students * 0.2)))\n",
    "train_students = set([x for x in students if x not in test_students])\n",
    "\n",
    "test_grades = [grades[x] if x in grades else 0 for x in test_students]\n",
    "train_grades = [grades[x] if x in grades else 0 for x in train_students]\n",
    "print(f'Train avg: {np.mean(train_grades):0.2f} Test avg: {np.mean(test_grades):0.2f}')\n",
    "print(f'Train dev: {np.std(train_grades):0.2f} Test dev: {np.std(test_grades):0.2f}')\n",
    "\n",
    "# test_ids = set([x in test_students for x in students])\n",
    "# train_ids = set([x in train_students for x in students])"
   ]
  },
  {
   "cell_type": "code",
   "execution_count": 5,
   "id": "3384b831-f401-4c3e-a474-2efd62b7bf0d",
   "metadata": {},
   "outputs": [],
   "source": [
    "# Given a dataframe, a vector length, and a number of components,\n",
    "# Divide all the vectors into a train and test set and transform them using PCA with the given number of components\n",
    "def train_test_vectors(df, vector_length):\n",
    "  train_X = []\n",
    "  train_y = []\n",
    "  test_X = []\n",
    "  test_y = []\n",
    "  vector_lookup = {}\n",
    "  for idx, row in df.iterrows():\n",
    "    vector = np.array(row[0:vector_length])\n",
    "    vector_lookup[row['CodeStateID']] = vector\n",
    "  for student in students:\n",
    "    all_assign = np.concatenate([vector_lookup[x] if x in vector_lookup else np.zeros(vector_length) for x in best_score_data[student]])\n",
    "    if student in train_students:\n",
    "      train_X.append(all_assign)\n",
    "      train_y.append(grades[student] if student in grades else 0)\n",
    "    elif student in test_students:\n",
    "      test_X.append(all_assign)\n",
    "      test_y.append(grades[student] if student in grades else 0)\n",
    "#   pca = PCA(n_components=n_components, random_state=1)\n",
    "#   train_X = pca.fit_transform(train_X)\n",
    "#   test_X = pca.transform(test_X)\n",
    "  return train_X, train_y, test_X, test_y"
   ]
  },
  {
   "cell_type": "code",
   "execution_count": 6,
   "id": "bdc9efd4-fdca-4614-86e4-196edafe0059",
   "metadata": {},
   "outputs": [],
   "source": [
    "# code_states = {}\n",
    "# for directory in ['F19_All', 'S19_All']:\n",
    "#   base_path = os.path.join('data', directory, 'Train' if directory == 'F19_All' else '')\n",
    "#   code_data = pd.read_csv(os.path.join(base_path, 'Data', 'CodeStates', 'CodeStates.csv'))\n",
    "#   for row in code_data.itertuples():\n",
    "#     code_states[row.CodeStateID] = row.Code"
   ]
  },
  {
   "cell_type": "code",
   "execution_count": 7,
   "id": "1d02af63-3d40-48bb-8546-e80ec868c91a",
   "metadata": {},
   "outputs": [],
   "source": [
    "# random.seed(1)\n",
    "# validation_set = set(random.sample(list(code_states.keys()), int(len(code_states) / 10)))\n",
    "# for c_id in train_data['CodeStateID'].unique():\n",
    "#   directory = 'Validate' if c_id in validation_set else 'Train' \n",
    "#   with open(os.path.join(directory, c_id + '.java'), 'w', encoding=\"utf-8\") as f:\n",
    "#     print(code_states[c_id], file=f)"
   ]
  },
  {
   "cell_type": "code",
   "execution_count": 8,
   "id": "9de8bb84-8f9f-426f-9d1d-d27c6e56e252",
   "metadata": {},
   "outputs": [],
   "source": [
    "# for c_id in test_data['CodeStateID'].unique():\n",
    "#   with open(os.path.join('Test', c_id + '.java'), 'w', encoding=\"utf-8\") as f:\n",
    "#     print(code_states[c_id], file=f)"
   ]
  },
  {
   "cell_type": "code",
   "execution_count": 9,
   "id": "0ab22ad7-0b5e-4034-acbc-962ece544378",
   "metadata": {},
   "outputs": [],
   "source": [
    "code2vec_vectors = pd.read_csv('data/Vectors/code2vec.csv')\n",
    "train_X, train_y, test_X, test_y = train_test_vectors(code2vec_vectors, 384)"
   ]
  },
  {
   "cell_type": "code",
   "execution_count": 10,
   "id": "7f56954e-8942-4711-af9c-e96a3882bb20",
   "metadata": {},
   "outputs": [],
   "source": [
    "with open('saved_models', 'rb') as f:\n",
    "  saved_models = pickle.load(f)"
   ]
  },
  {
   "cell_type": "code",
   "execution_count": 11,
   "id": "2a429155-4eb3-4f1f-ab5f-9415328fda5a",
   "metadata": {},
   "outputs": [],
   "source": [
    "def tune_model(name, model, parameters, n_iter):\n",
    "  pipeline = Pipeline(steps=[('pca', PCA(random_state=1)), ('model', model)])\n",
    "  if name in saved_models:\n",
    "    pipeline.set_params(**saved_models[name])\n",
    "  else:\n",
    "    new_params = {'pca__n_components': parameters['n_components']}\n",
    "    del parameters['n_components']\n",
    "    for key in parameters:\n",
    "      new_params['model__' + key] = parameters[key]\n",
    "    cv = RandomizedSearchCV(pipeline, new_params, random_state=1, scoring='neg_mean_absolute_error', n_iter=n_iter, verbose=1)\n",
    "    cv.fit(train_X, train_y)\n",
    "    saved_models[name] = cv.best_params_\n",
    "    with open('saved_models', 'wb') as f:\n",
    "      pickle.dump(saved_models, f)\n",
    "    pipeline.set_params(**cv.best_params_)\n",
    "#   print(\"Variance captured: %0.3f\" % np.sum(pipeline.steps[0].explained_variance_ratio_))\n",
    "  return pipeline"
   ]
  },
  {
   "cell_type": "code",
   "execution_count": 12,
   "id": "97c0d9e4-22a5-48fc-8c91-0a48fa8c7db5",
   "metadata": {},
   "outputs": [
    {
     "data": {
      "text/plain": [
       "DummyRegressor()"
      ]
     },
     "execution_count": 12,
     "metadata": {},
     "output_type": "execute_result"
    }
   ],
   "source": [
    "ridge = tune_model('code2vec_ridge', Ridge(random_state=1), {'n_components': list(range(10, 380, 10)),'alpha': uniform(scale=10)}, n_iter=10)\n",
    "ridge.fit(train_X, train_y)\n",
    "\n",
    "dummy = DummyRegressor()\n",
    "dummy.fit(train_X, train_y)"
   ]
  },
  {
   "cell_type": "code",
   "execution_count": 13,
   "id": "256da0f0-cdbc-4254-addf-31ab08aeb46e",
   "metadata": {},
   "outputs": [
    {
     "name": "stdout",
     "output_type": "stream",
     "text": [
      "MAE: 0.185\n",
      "RMSE: 0.229\n",
      "MAE: 0.162\n",
      "RMSE: 0.204\n"
     ]
    }
   ],
   "source": [
    "pred_y = dummy.predict(test_X)\n",
    "print(f'MAE: {mean_absolute_error(test_y, pred_y):0.3f}\\nRMSE: {math.sqrt(mean_squared_error(test_y, pred_y)):0.3f}')\n",
    "pred_y = ridge.predict(test_X)\n",
    "print(f'MAE: {mean_absolute_error(test_y, pred_y):0.3f}\\nRMSE: {math.sqrt(mean_squared_error(test_y, pred_y)):0.3f}')"
   ]
  },
  {
   "cell_type": "code",
   "execution_count": 14,
   "id": "c5942b11-47d6-43e5-80cd-dabe9c92addf",
   "metadata": {},
   "outputs": [
    {
     "data": {
      "text/plain": [
       "Pipeline(steps=[('pca', PCA(n_components=40, random_state=1)),\n",
       "                ('model', Ridge(alpha=3.0233257263183977, random_state=1))])"
      ]
     },
     "execution_count": 14,
     "metadata": {},
     "output_type": "execute_result"
    }
   ],
   "source": [
    "deepwalk_vectors = pd.read_csv('data/Vectors/deepwalk.csv')\n",
    "train_X, train_y, test_X, test_y = train_test_vectors(deepwalk_vectors, 50)\n",
    "ridge = tune_model('deepwalk_ridge', Ridge(random_state=1), {'n_components': list(range(5, 45, 5)),'alpha': uniform(scale=10)}, n_iter=10)\n",
    "ridge.fit(train_X, train_y)"
   ]
  },
  {
   "cell_type": "code",
   "execution_count": 15,
   "id": "99542fbf-3b10-4925-af8e-2936a63c2c17",
   "metadata": {},
   "outputs": [
    {
     "name": "stdout",
     "output_type": "stream",
     "text": [
      "MAE: 0.145\n",
      "RMSE: 0.193\n"
     ]
    }
   ],
   "source": [
    "pred_y = ridge.predict(test_X)\n",
    "print(f'MAE: {mean_absolute_error(test_y, pred_y):0.3f}\\nRMSE: {math.sqrt(mean_squared_error(test_y, pred_y)):0.3f}')"
   ]
  },
  {
   "cell_type": "code",
   "execution_count": 16,
   "id": "7054515e-12fa-4a47-acbc-be80cadf0b24",
   "metadata": {},
   "outputs": [
    {
     "data": {
      "text/plain": [
       "-0.20431378"
      ]
     },
     "execution_count": 16,
     "metadata": {},
     "output_type": "execute_result"
    }
   ],
   "source": []
  },
  {
   "cell_type": "code",
   "execution_count": null,
   "id": "70b1e06f-5bd7-405b-89f6-c2155f16e78d",
   "metadata": {},
   "outputs": [],
   "source": []
  }
 ],
 "metadata": {
  "kernelspec": {
   "display_name": "Python 3 (ipykernel)",
   "language": "python",
   "name": "python3"
  },
  "language_info": {
   "codemirror_mode": {
    "name": "ipython",
    "version": 3
   },
   "file_extension": ".py",
   "mimetype": "text/x-python",
   "name": "python",
   "nbconvert_exporter": "python",
   "pygments_lexer": "ipython3",
   "version": "3.9.6"
  }
 },
 "nbformat": 4,
 "nbformat_minor": 5
}
