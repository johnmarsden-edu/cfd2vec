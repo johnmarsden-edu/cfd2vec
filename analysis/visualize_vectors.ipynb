{
 "cells": [
  {
   "cell_type": "code",
   "execution_count": 1,
   "id": "265a8b5e-7d30-462d-af43-3f41fc0a5ab5",
   "metadata": {
    "pycharm": {
     "name": "#%%\n"
    }
   },
   "outputs": [],
   "source": [
    "import itertools\n",
    "import random\n",
    "from pathlib import Path\n",
    "\n",
    "import matplotlib.pyplot as plt\n",
    "import numpy as np\n",
    "import pandas as pd\n",
    "from seaborn import heatmap"
   ]
  },
  {
   "cell_type": "code",
   "execution_count": 2,
   "id": "a55d4013",
   "metadata": {
    "pycharm": {
     "name": "#%%\n"
    }
   },
   "outputs": [],
   "source": [
    "pd.set_option('display.max_columns', None)\n",
    "pd.set_option('display.expand_frame_repr', False)\n",
    "pd.set_option('max_colwidth', None)"
   ]
  },
  {
   "cell_type": "code",
   "execution_count": 3,
   "id": "94080f6b-ef0c-44ce-816c-764e6393ba54",
   "metadata": {
    "pycharm": {
     "name": "#%%\n"
    }
   },
   "outputs": [
    {
     "data": {
      "text/html": [
       "<div>\n",
       "<style scoped>\n",
       "    .dataframe tbody tr th:only-of-type {\n",
       "        vertical-align: middle;\n",
       "    }\n",
       "\n",
       "    .dataframe tbody tr th {\n",
       "        vertical-align: top;\n",
       "    }\n",
       "\n",
       "    .dataframe thead th {\n",
       "        text-align: right;\n",
       "    }\n",
       "</style>\n",
       "<table border=\"1\" class=\"dataframe\">\n",
       "  <thead>\n",
       "    <tr style=\"text-align: right;\">\n",
       "      <th></th>\n",
       "      <th>SubjectID</th>\n",
       "      <th>Assignment</th>\n",
       "      <th>CodeStateID</th>\n",
       "      <th>Score</th>\n",
       "      <th>ExamGrade</th>\n",
       "    </tr>\n",
       "  </thead>\n",
       "  <tbody>\n",
       "    <tr>\n",
       "      <th>0</th>\n",
       "      <td>014604ba54339d4b1266cf78e125053a5ac11dd861ef3cc0b4ed777ed0e2af0a</td>\n",
       "      <td>439-1</td>\n",
       "      <td>79c9e2da9bc703116d8768297056db22866c43d583e529d73bf25235f1ca6b16</td>\n",
       "      <td>1.0</td>\n",
       "      <td>0.97</td>\n",
       "    </tr>\n",
       "    <tr>\n",
       "      <th>1</th>\n",
       "      <td>014604ba54339d4b1266cf78e125053a5ac11dd861ef3cc0b4ed777ed0e2af0a</td>\n",
       "      <td>439-1</td>\n",
       "      <td>79c9e2da9bc703116d8768297056db22866c43d583e529d73bf25235f1ca6b16</td>\n",
       "      <td>1.0</td>\n",
       "      <td>0.97</td>\n",
       "    </tr>\n",
       "    <tr>\n",
       "      <th>2</th>\n",
       "      <td>014604ba54339d4b1266cf78e125053a5ac11dd861ef3cc0b4ed777ed0e2af0a</td>\n",
       "      <td>439-3</td>\n",
       "      <td>0e91ae5696da0d6a724380360147b8699a25c14ff4622713875f92127b52737b</td>\n",
       "      <td>1.0</td>\n",
       "      <td>0.97</td>\n",
       "    </tr>\n",
       "    <tr>\n",
       "      <th>3</th>\n",
       "      <td>014604ba54339d4b1266cf78e125053a5ac11dd861ef3cc0b4ed777ed0e2af0a</td>\n",
       "      <td>439-3</td>\n",
       "      <td>0e91ae5696da0d6a724380360147b8699a25c14ff4622713875f92127b52737b</td>\n",
       "      <td>1.0</td>\n",
       "      <td>0.97</td>\n",
       "    </tr>\n",
       "    <tr>\n",
       "      <th>4</th>\n",
       "      <td>014604ba54339d4b1266cf78e125053a5ac11dd861ef3cc0b4ed777ed0e2af0a</td>\n",
       "      <td>439-5</td>\n",
       "      <td>1b38c7b1c7ebca281bbbc270d1b896484de663045c715fd4ec54ab6b36859106</td>\n",
       "      <td>1.0</td>\n",
       "      <td>0.97</td>\n",
       "    </tr>\n",
       "  </tbody>\n",
       "</table>\n",
       "</div>"
      ],
      "text/plain": [
       "                                                          SubjectID Assignment                                                       CodeStateID  Score  ExamGrade\n",
       "0  014604ba54339d4b1266cf78e125053a5ac11dd861ef3cc0b4ed777ed0e2af0a      439-1  79c9e2da9bc703116d8768297056db22866c43d583e529d73bf25235f1ca6b16    1.0       0.97\n",
       "1  014604ba54339d4b1266cf78e125053a5ac11dd861ef3cc0b4ed777ed0e2af0a      439-1  79c9e2da9bc703116d8768297056db22866c43d583e529d73bf25235f1ca6b16    1.0       0.97\n",
       "2  014604ba54339d4b1266cf78e125053a5ac11dd861ef3cc0b4ed777ed0e2af0a      439-3  0e91ae5696da0d6a724380360147b8699a25c14ff4622713875f92127b52737b    1.0       0.97\n",
       "3  014604ba54339d4b1266cf78e125053a5ac11dd861ef3cc0b4ed777ed0e2af0a      439-3  0e91ae5696da0d6a724380360147b8699a25c14ff4622713875f92127b52737b    1.0       0.97\n",
       "4  014604ba54339d4b1266cf78e125053a5ac11dd861ef3cc0b4ed777ed0e2af0a      439-5  1b38c7b1c7ebca281bbbc270d1b896484de663045c715fd4ec54ab6b36859106    1.0       0.97"
      ]
     },
     "execution_count": 3,
     "metadata": {},
     "output_type": "execute_result"
    }
   ],
   "source": [
    "# Load final exam and assignment data\n",
    "data = pd.DataFrame(columns=['SubjectID', 'Assignment', 'CodeStateID'])\n",
    "grades = {}\n",
    "scores = {}\n",
    "total_non_compile = 0\n",
    "data_dir = Path.cwd() / '..' / 'data'\n",
    "for directory in [data_dir / 'F19_All' / 'Train', data_dir / 'S19_All']:\n",
    "    grade_data = pd.read_csv(directory / 'Data' / 'LinkTables' / 'Subject.csv')\n",
    "    for row in grade_data.itertuples():\n",
    "        grades[row.SubjectID] = row._2 if directory.name == 'S19_All' else row._2 / 100\n",
    "    main = pd.read_csv(directory / 'Data' / 'MainTable.csv')\n",
    "    total_non_compile += len(main['CodeStateID'].unique())\n",
    "    for row in main[main['EventType'] == 'Run.Program'].itertuples():\n",
    "        scores[row.CodeStateID] = row.Score\n",
    "    main['Assignment'] = [f'{int(x[0])}-{int(x[1])}' for x in list(zip(main['AssignmentID'], main['ProblemID']))]\n",
    "    data = pd.concat([data, main[['SubjectID', 'Assignment', 'CodeStateID']]], ignore_index=True)\n",
    "\n",
    "data['Score'] = [scores[x] for x in data['CodeStateID']]\n",
    "data['ExamGrade'] = [grades[x] if x in grades else 0 for x in data['SubjectID']]\n",
    "data = data[data['Score'] == 1]\n",
    "data.head()"
   ]
  },
  {
   "cell_type": "code",
   "execution_count": 4,
   "id": "c53b9c8a-e88f-44e3-95f3-7ced598632fb",
   "metadata": {
    "pycharm": {
     "name": "#%%\n"
    }
   },
   "outputs": [],
   "source": [
    "random.seed(1)\n",
    "code_ids = data['CodeStateID']\n",
    "assignments = data['Assignment']\n",
    "assign_c = {}\n",
    "unique_assignments = data['Assignment'].unique()\n",
    "for assign in unique_assignments:\n",
    "    assign_c[assign] = (random.random(), random.random(), random.random())\n",
    "assign_lookup = {}\n",
    "for c_id, assign in zip(code_ids, assignments):\n",
    "    assign_lookup[c_id] = assign"
   ]
  },
  {
   "cell_type": "code",
   "execution_count": 6,
   "id": "eb8bb6b0",
   "metadata": {
    "pycharm": {
     "name": "#%%\n"
    }
   },
   "outputs": [
    {
     "data": {
      "text/plain": [
       "[('code2vec', 384, ''),\n",
       " ('tf_idf', 50, ''),\n",
       " ('FC-vectors-5', 128, ''),\n",
       " ('LC-vectors-5', 128, ''),\n",
       " ('NC-vectors-5', 128, ''),\n",
       " ('VC-vectors-5', 128, ''),\n",
       " ('NC-vectors-10', 128, '')]"
      ]
     },
     "execution_count": 6,
     "metadata": {},
     "output_type": "execute_result"
    }
   ],
   "source": [
    "embedding_vectors = [\n",
    "    ('code2vec', 384, ''),\n",
    "    ('tf_idf', 50, '')\n",
    "]\n",
    "\n",
    "embedding_vectors.extend([(f'{strat}C-vectors-5',128, '') for strat in ['F', 'L', 'N', 'V']])\n",
    "embedding_vectors.append(('NC-vectors-10', 128, ''))\n",
    "embedding_vectors"
   ]
  },
  {
   "cell_type": "code",
   "execution_count": 7,
   "id": "9bf2ef7c",
   "metadata": {
    "pycharm": {
     "name": "#%%\n"
    }
   },
   "outputs": [],
   "source": [
    "vector_dir = data_dir / 'vectors'\n",
    "vector_files = [(vector_dir / f'{f}.csv', s, l) for f, s, l in embedding_vectors]"
   ]
  },
  {
   "cell_type": "code",
   "execution_count": 8,
   "id": "56ed2e4f",
   "metadata": {
    "pycharm": {
     "name": "#%%\n"
    }
   },
   "outputs": [],
   "source": [
    "def get_distance_summary(dist_groups: dict):\n",
    "    print(\"Distance Summary\")\n",
    "    dist_df = pd.DataFrame.from_dict(dist_groups)\n",
    "    dist_df = dist_df.T\n",
    "    dist_df = (dist_df - dist_df.min()) / (dist_df.max() - dist_df.min())\n",
    "    dist_df = dist_df.T\n",
    "    return dist_df.describe().T.sort_index()\n",
    "\n",
    "\n",
    "how_similar = {\n",
    "    (1, 2): 'similar',\n",
    "    (1, 3): 'dissimilar',\n",
    "    (1, 4): 'dissimilar',\n",
    "    (2, 3): 'dissimilar',\n",
    "    (2, 4): 'dissimilar',\n",
    "    (3, 4): 'similar'\n",
    "}\n",
    "\n",
    "ex_map = {\n",
    "    '487-20': 1,\n",
    "    '439-236': 2,\n",
    "    '439-232': 3,\n",
    "    '439-234': 4\n",
    "}\n",
    "\n",
    "\n",
    "def get_dist_group_name(p1, p2):\n",
    "    p1 = ex_map[p1]\n",
    "    p2 = ex_map[p2]\n",
    "    if p1 == p2:\n",
    "        return f'same_{p1}'\n",
    "    s1, s2 = sorted([p1, p2])\n",
    "    return f'{how_similar[(s1, s2)]}_{p1}-{p2}'\n",
    "\n",
    "\n",
    "def add_to_dist_groups(groups, dist, p1, p2):\n",
    "    group_name = get_dist_group_name(p1, p2)\n",
    "    if group_name not in groups:\n",
    "        groups[group_name] = []\n",
    "    groups[group_name].append(dist)"
   ]
  },
  {
   "cell_type": "markdown",
   "metadata": {
    "collapsed": false,
    "pycharm": {
     "name": "#%% md\n"
    }
   },
   "source": [
    "# TODO: Discuss how we generate the heatmap distances"
   ]
  },
  {
   "cell_type": "code",
   "execution_count": 9,
   "id": "025dee53-1c26-46ff-aaa1-119ca184c646",
   "metadata": {
    "pycharm": {
     "name": "#%%\n"
    }
   },
   "outputs": [],
   "source": [
    "def heat_map(frame, vector_size, output, lstr):\n",
    "    PROBLEMS = ['439-236', '487-20', '439-232', '439-234']\n",
    "    random.seed(1)\n",
    "    vector_map = {}\n",
    "    vectors = np.array(frame.iloc[:, 0:vector_size])\n",
    "    c_ids = frame['CodeStateID']\n",
    "    for v, c in zip(vectors, c_ids):\n",
    "        vector_map[c[len(lstr):]] = v\n",
    "    filt = data[[x in vector_map for x in data['CodeStateID']]]\n",
    "    chosen_ids = []\n",
    "    for problem in PROBLEMS:\n",
    "        filt2 = filt[filt['Assignment'] == problem].reset_index()\n",
    "        chosen_ids += random.sample(list(filt2['CodeStateID']), 10)\n",
    "    chosen_vectors = [vector_map[x] for x in chosen_ids]\n",
    "    distances = np.zeros((len(chosen_vectors), len(chosen_vectors)))\n",
    "    dist_groups = {}\n",
    "    problems = [p for p in itertools.chain.from_iterable([[p] * 10 for p in PROBLEMS])]\n",
    "    for p1_index, p1 in enumerate(problems):\n",
    "        for p2_index, p2 in enumerate(problems):\n",
    "            dist = np.linalg.norm(chosen_vectors[p1_index] - chosen_vectors[p2_index])\n",
    "            add_to_dist_groups(dist_groups, dist, p1, p2)\n",
    "            distances[p1_index][p2_index] = dist\n",
    "            distances[p2_index][p1_index] = dist\n",
    "    print(get_distance_summary(dist_groups))\n",
    "\n",
    "    distances = pd.DataFrame(distances, index=pd.Index(problems, name='Submission 1'), columns=pd.Index(problems, name='Submission 2'))\n",
    "    ticklabels = [p for p in itertools.chain.from_iterable([([None] * 4) + [p] + ([None] * 5)  for p in PROBLEMS])]\n",
    "    heatmap(distances, xticklabels=ticklabels, yticklabels=ticklabels).tick_params(axis=u'both', which=u'both',length=0)\n",
    "    print(output)\n",
    "    plt.savefig(output)\n",
    "    plt.clf()"
   ]
  },
  {
   "cell_type": "markdown",
   "metadata": {
    "collapsed": false,
    "pycharm": {
     "name": "#%% md\n"
    }
   },
   "source": [
    "# TODO: Discuss why this is an ideal heat map"
   ]
  },
  {
   "cell_type": "code",
   "execution_count": 10,
   "id": "c6658013-49bd-4226-9802-a663333dd7d9",
   "metadata": {
    "pycharm": {
     "name": "#%%\n"
    }
   },
   "outputs": [
    {
     "name": "stdout",
     "output_type": "stream",
     "text": [
      "Ideal heat map\n"
     ]
    },
    {
     "data": {
      "image/png": "[encoded data removed]",
      "text/plain": [
       "<Figure size 640x480 with 2 Axes>"
      ]
     },
     "metadata": {},
     "output_type": "display_data"
    }
   ],
   "source": [
    "print(\"Ideal heat map\")\n",
    "\n",
    "PROBLEMS = ['439-236', '487-20', '439-232', '439-234']\n",
    "\n",
    "vectors = []\n",
    "distances = np.zeros((40, 40))\n",
    "for i in range(10):\n",
    "    vectors.append(np.array([0, 1, 1]))\n",
    "for i in range(10):\n",
    "    vectors.append(np.array([1, 2, 1]))\n",
    "for i in range(10):\n",
    "    vectors.append(np.array([3, 0, 0]))\n",
    "for i in range(10):\n",
    "    vectors.append(np.array([3, 1, 0]))\n",
    "for i in range(len(vectors)):\n",
    "    for j in range(i, len(vectors)):\n",
    "        dist = np.linalg.norm(vectors[i] - vectors[j])\n",
    "        distances[i][j] = dist\n",
    "        distances[j][i] = dist\n",
    "\n",
    "\n",
    "problems = [p for p in itertools.chain.from_iterable([[p] * 10 for p in PROBLEMS])]\n",
    "distances = pd.DataFrame(distances, index=pd.Index(problems, name='Submission 1'), columns=pd.Index(problems, name='Submission 2'))\n",
    "ticklabels = [p for p in itertools.chain.from_iterable([([None] * 4) + [p] + ([None] * 5)  for p in PROBLEMS])]\n",
    "heatmap(distances, xticklabels=ticklabels, yticklabels=ticklabels).tick_params(axis=u'both', which=u'both',length=0)\n",
    "plt.show()"
   ]
  },
  {
   "cell_type": "code",
   "execution_count": 11,
   "id": "10252826",
   "metadata": {},
   "outputs": [],
   "source": [
    "from collections import defaultdict\n",
    "dtype_default_dict = defaultdict(np.float64)\n",
    "dtype_default_dict['CodeStateID'] = str"
   ]
  },
  {
   "cell_type": "code",
   "execution_count": 14,
   "id": "69b68432-810a-438a-a9cf-9fd0f875dc06",
   "metadata": {
    "pycharm": {
     "name": "#%%\n"
    }
   },
   "outputs": [
    {
     "name": "stdout",
     "output_type": "stream",
     "text": [
      "\n",
      "code2vec\n",
      "Distance Summary\n",
      "                count      mean       std       min       25%       50%       75%       max\n",
      "dissimilar_1-3  100.0  0.880234  0.085547  0.602185  0.832658  0.903266  0.943112  0.997453\n",
      "dissimilar_1-4  100.0  0.920379  0.088515  0.706778  0.844130  0.957955  1.000000  1.000000\n",
      "dissimilar_2-3  100.0  0.909770  0.061258  0.759085  0.869128  0.910980  0.956155  1.000000\n",
      "dissimilar_2-4  100.0  0.901364  0.050679  0.794648  0.864032  0.897367  0.931879  1.000000\n",
      "dissimilar_3-1  100.0  0.880234  0.085547  0.602185  0.832658  0.903266  0.943112  0.997453\n",
      "dissimilar_3-2  100.0  0.909770  0.061258  0.759085  0.869128  0.910980  0.956155  1.000000\n",
      "dissimilar_4-1  100.0  0.920379  0.088515  0.706778  0.844130  0.957955  1.000000  1.000000\n",
      "dissimilar_4-2  100.0  0.901364  0.050679  0.794648  0.864032  0.897367  0.931879  1.000000\n",
      "same_1          100.0  0.217939  0.137123  0.000000  0.117459  0.222085  0.324113  0.464224\n",
      "same_2          100.0  0.086237  0.074617  0.000000  0.007985  0.088717  0.144851  0.278817\n",
      "same_3          100.0  0.043578  0.051977  0.000000  0.000000  0.022289  0.078144  0.177890\n",
      "same_4          100.0  0.037036  0.043731  0.000000  0.000000  0.031862  0.057620  0.145630\n",
      "similar_1-2     100.0  0.614867  0.109974  0.341618  0.531919  0.632314  0.702140  0.806783\n",
      "similar_2-1     100.0  0.614867  0.109974  0.341618  0.531919  0.632314  0.702140  0.806783\n",
      "similar_3-4     100.0  0.653684  0.044868  0.508721  0.635076  0.660083  0.677804  0.749800\n",
      "similar_4-3     100.0  0.653684  0.044868  0.508721  0.635076  0.660083  0.677804  0.749800\n",
      "/home/john/Research/EmbeddingGraphs/cfg2vec/analysis/../data/Images/heatmaps/code2vec.png\n",
      "\n",
      "tf_idf\n",
      "Distance Summary\n",
      "                count      mean       std  min       25%       50%       75%       max\n",
      "dissimilar_1-3  100.0  0.546359  0.341661  0.0  0.312058  0.421839  0.933103  1.000000\n",
      "dissimilar_1-4  100.0  0.522424  0.290497  0.0  0.388328  0.466077  0.791174  1.000000\n",
      "dissimilar_2-3  100.0  0.409404  0.331830  0.0  0.082971  0.523890  0.672221  1.000000\n",
      "dissimilar_2-4  100.0  0.382181  0.283954  0.0  0.137590  0.244024  0.648563  1.000000\n",
      "dissimilar_3-1  100.0  0.546359  0.341661  0.0  0.312058  0.421839  0.933103  1.000000\n",
      "dissimilar_3-2  100.0  0.409404  0.331830  0.0  0.082971  0.523890  0.672221  1.000000\n",
      "dissimilar_4-1  100.0  0.522424  0.290497  0.0  0.388328  0.466077  0.791174  1.000000\n",
      "dissimilar_4-2  100.0  0.382181  0.283954  0.0  0.137590  0.244024  0.648563  1.000000\n",
      "same_1          100.0  0.486257  0.422005  0.0  0.000000  0.545365  0.897400  1.000000\n",
      "same_2          100.0  0.370838  0.372977  0.0  0.000000  0.239753  0.691721  0.975479\n",
      "same_3          100.0  0.340088  0.319531  0.0  0.009563  0.217027  0.594430  1.000000\n",
      "same_4          100.0  0.275901  0.287100  0.0  0.000000  0.162973  0.509468  0.820879\n",
      "similar_1-2     100.0  0.535005  0.322526  0.0  0.284364  0.394479  0.934902  1.000000\n",
      "similar_2-1     100.0  0.535005  0.322526  0.0  0.284364  0.394479  0.934902  1.000000\n",
      "similar_3-4     100.0  0.338439  0.287553  0.0  0.057032  0.401037  0.564575  1.000000\n",
      "similar_4-3     100.0  0.338439  0.287553  0.0  0.057032  0.401037  0.564575  1.000000\n",
      "/home/john/Research/EmbeddingGraphs/cfg2vec/analysis/../data/Images/heatmaps/tf_idf.png\n",
      "\n",
      "FC-vectors-5\n",
      "Distance Summary\n",
      "                count      mean       std       min       25%       50%       75%       max\n",
      "dissimilar_1-3  100.0  0.779846  0.242458  0.208965  0.646115  0.902329  0.967855  1.000000\n",
      "dissimilar_1-4  100.0  0.521037  0.251979  0.091142  0.324819  0.473696  0.644659  1.000000\n",
      "dissimilar_2-3  100.0  0.743799  0.250382  0.196524  0.626848  0.803746  0.958119  1.000000\n",
      "dissimilar_2-4  100.0  0.467278  0.184205  0.112661  0.322133  0.491075  0.600983  0.798008\n",
      "dissimilar_3-1  100.0  0.779846  0.242458  0.208965  0.646115  0.902329  0.967855  1.000000\n",
      "dissimilar_3-2  100.0  0.743799  0.250382  0.196524  0.626848  0.803746  0.958119  1.000000\n",
      "dissimilar_4-1  100.0  0.521037  0.251979  0.091142  0.324819  0.473696  0.644659  1.000000\n",
      "dissimilar_4-2  100.0  0.467278  0.184205  0.112661  0.322133  0.491075  0.600983  0.798008\n",
      "same_1          100.0  0.367495  0.398812  0.000000  0.000000  0.120096  0.783197  0.975851\n",
      "same_2          100.0  0.242479  0.224871  0.000000  0.000000  0.214006  0.493125  0.628802\n",
      "same_3          100.0  0.466240  0.399433  0.000000  0.003281  0.560487  0.835866  1.000000\n",
      "same_4          100.0  0.227081  0.185223  0.000000  0.061150  0.184785  0.442986  0.563552\n",
      "similar_1-2     100.0  0.386588  0.295618  0.000000  0.153972  0.285225  0.567947  0.975537\n",
      "similar_2-1     100.0  0.386588  0.295618  0.000000  0.153972  0.285225  0.567947  0.975537\n",
      "similar_3-4     100.0  0.655727  0.265117  0.133754  0.464396  0.690466  0.890846  1.000000\n",
      "similar_4-3     100.0  0.655727  0.265117  0.133754  0.464396  0.690466  0.890846  1.000000\n",
      "/home/john/Research/EmbeddingGraphs/cfg2vec/analysis/../data/Images/heatmaps/FC-vectors-5.png\n",
      "\n",
      "LC-vectors-5\n",
      "Distance Summary\n",
      "                count      mean       std       min       25%       50%       75%       max\n",
      "dissimilar_1-3  100.0  0.812760  0.191286  0.176455  0.758406  0.865453  0.949545  1.000000\n",
      "dissimilar_1-4  100.0  0.763972  0.249125  0.257659  0.601147  0.869562  0.947801  1.000000\n",
      "dissimilar_2-3  100.0  0.768809  0.199135  0.166221  0.694758  0.814715  0.914502  1.000000\n",
      "dissimilar_2-4  100.0  0.710769  0.252296  0.239850  0.493605  0.789431  0.925021  1.000000\n",
      "dissimilar_3-1  100.0  0.812760  0.191286  0.176455  0.758406  0.865453  0.949545  1.000000\n",
      "dissimilar_3-2  100.0  0.768809  0.199135  0.166221  0.694758  0.814715  0.914502  1.000000\n",
      "dissimilar_4-1  100.0  0.763972  0.249125  0.257659  0.601147  0.869562  0.947801  1.000000\n",
      "dissimilar_4-2  100.0  0.710769  0.252296  0.239850  0.493605  0.789431  0.925021  1.000000\n",
      "same_1          100.0  0.375671  0.402180  0.000000  0.000000  0.254064  0.801451  1.000000\n",
      "same_2          100.0  0.263573  0.278385  0.000000  0.000000  0.180696  0.505267  0.891289\n",
      "same_3          100.0  0.558329  0.348025  0.000000  0.281032  0.649340  0.811056  1.000000\n",
      "same_4          100.0  0.341603  0.303270  0.000000  0.000138  0.278485  0.651560  0.831276\n",
      "similar_1-2     100.0  0.436090  0.320102  0.000000  0.180539  0.342454  0.705654  1.000000\n",
      "similar_2-1     100.0  0.436090  0.320102  0.000000  0.180539  0.342454  0.705654  1.000000\n",
      "similar_3-4     100.0  0.681207  0.223352  0.103159  0.551140  0.749476  0.828607  0.997303\n",
      "similar_4-3     100.0  0.681207  0.223352  0.103159  0.551140  0.749476  0.828607  0.997303\n",
      "/home/john/Research/EmbeddingGraphs/cfg2vec/analysis/../data/Images/heatmaps/LC-vectors-5.png\n",
      "\n",
      "NC-vectors-5\n",
      "Distance Summary\n",
      "                count      mean       std       min       25%       50%       75%       max\n",
      "dissimilar_1-3  100.0  0.584170  0.281196  0.142758  0.317770  0.559489  0.855230  1.000000\n",
      "dissimilar_1-4  100.0  0.540563  0.300717  0.132143  0.257880  0.490900  0.842736  1.000000\n",
      "dissimilar_2-3  100.0  0.640815  0.280886  0.168564  0.409481  0.619472  0.988262  1.000000\n",
      "dissimilar_2-4  100.0  0.589694  0.289934  0.122844  0.328830  0.565979  0.864370  1.000000\n",
      "dissimilar_3-1  100.0  0.584170  0.281196  0.142758  0.317770  0.559489  0.855230  1.000000\n",
      "dissimilar_3-2  100.0  0.640815  0.280886  0.168564  0.409481  0.619472  0.988262  1.000000\n",
      "dissimilar_4-1  100.0  0.540563  0.300717  0.132143  0.257880  0.490900  0.842736  1.000000\n",
      "dissimilar_4-2  100.0  0.589694  0.289934  0.122844  0.328830  0.565979  0.864370  1.000000\n",
      "same_1          100.0  0.270564  0.319501  0.000000  0.000000  0.105812  0.494690  0.953237\n",
      "same_2          100.0  0.354141  0.356984  0.000000  0.000000  0.233849  0.677039  1.000000\n",
      "same_3          100.0  0.275361  0.301502  0.000000  0.000000  0.179512  0.499104  0.902804\n",
      "same_4          100.0  0.339588  0.323008  0.000000  0.022139  0.219036  0.600729  0.973330\n",
      "similar_1-2     100.0  0.422893  0.322427  0.000000  0.131465  0.312390  0.699834  0.977790\n",
      "similar_2-1     100.0  0.422893  0.322427  0.000000  0.131465  0.312390  0.699834  0.977790\n",
      "similar_3-4     100.0  0.548124  0.277079  0.131499  0.310189  0.529935  0.775079  1.000000\n",
      "similar_4-3     100.0  0.548124  0.277079  0.131499  0.310189  0.529935  0.775079  1.000000\n",
      "/home/john/Research/EmbeddingGraphs/cfg2vec/analysis/../data/Images/heatmaps/NC-vectors-5.png\n",
      "\n",
      "VC-vectors-5\n",
      "Distance Summary\n",
      "                count      mean       std       min       25%       50%       75%       max\n",
      "dissimilar_1-3  100.0  0.801535  0.203101  0.223385  0.655372  0.902010  0.950460  1.000000\n",
      "dissimilar_1-4  100.0  0.485096  0.206737  0.135592  0.334773  0.468254  0.604201  1.000000\n",
      "dissimilar_2-3  100.0  0.852474  0.172044  0.383386  0.725814  0.937882  1.000000  1.000000\n",
      "dissimilar_2-4  100.0  0.512610  0.189884  0.178973  0.368190  0.504123  0.621269  1.000000\n",
      "dissimilar_3-1  100.0  0.801535  0.203101  0.223385  0.655372  0.902010  0.950460  1.000000\n",
      "dissimilar_3-2  100.0  0.852474  0.172044  0.383386  0.725814  0.937882  1.000000  1.000000\n",
      "dissimilar_4-1  100.0  0.485096  0.206737  0.135592  0.334773  0.468254  0.604201  1.000000\n",
      "dissimilar_4-2  100.0  0.512610  0.189884  0.178973  0.368190  0.504123  0.621269  1.000000\n",
      "same_1          100.0  0.216912  0.231120  0.000000  0.000000  0.137200  0.409299  0.651938\n",
      "same_2          100.0  0.183611  0.150128  0.000000  0.000000  0.182319  0.309396  0.517863\n",
      "same_3          100.0  0.519022  0.345681  0.000000  0.190575  0.576241  0.770950  1.000000\n",
      "same_4          100.0  0.305610  0.244263  0.000000  0.022608  0.321337  0.497106  0.765449\n",
      "similar_1-2     100.0  0.300136  0.176550  0.000000  0.186123  0.291119  0.434232  0.840103\n",
      "similar_2-1     100.0  0.300136  0.176550  0.000000  0.186123  0.291119  0.434232  0.840103\n",
      "similar_3-4     100.0  0.739648  0.174414  0.265242  0.622202  0.796125  0.879522  1.000000\n",
      "similar_4-3     100.0  0.739648  0.174414  0.265242  0.622202  0.796125  0.879522  1.000000\n",
      "/home/john/Research/EmbeddingGraphs/cfg2vec/analysis/../data/Images/heatmaps/VC-vectors-5.png\n",
      "\n",
      "NC-vectors-10\n",
      "Distance Summary\n",
      "                count      mean       std       min       25%       50%       75%       max\n",
      "dissimilar_1-3  100.0  0.673946  0.301656  0.194883  0.356735  0.837754  0.971074  1.000000\n",
      "dissimilar_1-4  100.0  0.635238  0.278724  0.170814  0.340772  0.700544  0.890642  1.000000\n",
      "dissimilar_2-3  100.0  0.691767  0.271218  0.198973  0.366384  0.798200  0.937722  1.000000\n",
      "dissimilar_2-4  100.0  0.657706  0.271183  0.157320  0.370081  0.678129  0.917437  1.000000\n",
      "dissimilar_3-1  100.0  0.673946  0.301656  0.194883  0.356735  0.837754  0.971074  1.000000\n",
      "dissimilar_3-2  100.0  0.691767  0.271218  0.198973  0.366384  0.798200  0.937722  1.000000\n",
      "dissimilar_4-1  100.0  0.635238  0.278724  0.170814  0.340772  0.700544  0.890642  1.000000\n",
      "dissimilar_4-2  100.0  0.657706  0.271183  0.157320  0.370081  0.678129  0.917437  1.000000\n",
      "same_1          100.0  0.259032  0.295667  0.000000  0.000000  0.167728  0.449658  0.810974\n",
      "same_2          100.0  0.283196  0.323161  0.000000  0.000000  0.140755  0.473743  0.926329\n",
      "same_3          100.0  0.245198  0.293951  0.000000  0.000000  0.130910  0.338780  0.882066\n",
      "same_4          100.0  0.358590  0.317476  0.000000  0.076811  0.267063  0.615620  0.948610\n",
      "similar_1-2     100.0  0.390133  0.287895  0.000000  0.133608  0.325065  0.609942  0.933723\n",
      "similar_2-1     100.0  0.390133  0.287895  0.000000  0.133608  0.325065  0.609942  0.933723\n",
      "similar_3-4     100.0  0.693923  0.279042  0.182169  0.344781  0.793723  0.960814  1.000000\n",
      "similar_4-3     100.0  0.693923  0.279042  0.182169  0.344781  0.793723  0.960814  1.000000\n",
      "/home/john/Research/EmbeddingGraphs/cfg2vec/analysis/../data/Images/heatmaps/NC-vectors-10.png\n",
      "Training combined code2vec FC based model now\n",
      "Distance Summary\n",
      "                count      mean       std       min       25%       50%       75%       max\n",
      "dissimilar_1-3  100.0  0.919475  0.040773  0.818018  0.883181  0.925598  0.952915  0.990879\n",
      "dissimilar_1-4  100.0  0.924331  0.054634  0.792291  0.884200  0.924187  0.972445  1.000000\n",
      "dissimilar_2-3  100.0  0.965810  0.045480  0.762552  0.936204  0.985420  1.000000  1.000000\n",
      "dissimilar_2-4  100.0  0.925935  0.049044  0.776294  0.895846  0.938701  0.961859  1.000000\n",
      "dissimilar_3-1  100.0  0.919475  0.040773  0.818018  0.883181  0.925598  0.952915  0.990879\n",
      "dissimilar_3-2  100.0  0.965810  0.045480  0.762552  0.936204  0.985420  1.000000  1.000000\n",
      "dissimilar_4-1  100.0  0.924331  0.054634  0.792291  0.884200  0.924187  0.972445  1.000000\n",
      "dissimilar_4-2  100.0  0.925935  0.049044  0.776294  0.895846  0.938701  0.961859  1.000000\n",
      "same_1          100.0  0.260793  0.190128  0.000000  0.136188  0.246185  0.350755  0.670381\n",
      "same_2          100.0  0.089338  0.069594  0.000000  0.028958  0.090329  0.139614  0.207638\n",
      "same_3          100.0  0.099474  0.109275  0.000000  0.000000  0.055392  0.212137  0.312928\n",
      "same_4          100.0  0.022488  0.041403  0.000000  0.000000  0.000000  0.025551  0.184776\n",
      "similar_1-2     100.0  0.602557  0.094317  0.311850  0.559100  0.612591  0.670846  0.786064\n",
      "similar_2-1     100.0  0.602557  0.094317  0.311850  0.559100  0.612591  0.670846  0.786064\n",
      "similar_3-4     100.0  0.682859  0.057933  0.468768  0.653199  0.692755  0.722910  0.794283\n",
      "similar_4-3     100.0  0.682859  0.057933  0.468768  0.653199  0.692755  0.722910  0.794283\n",
      "/home/john/Research/EmbeddingGraphs/cfg2vec/analysis/../data/Images/heatmaps/combined_c2v_FC.png\n",
      "Training combined code2vec LC based model now\n",
      "Distance Summary\n",
      "                count      mean       std       min       25%       50%       75%       max\n",
      "dissimilar_1-3  100.0  0.912313  0.038146  0.820629  0.881834  0.917090  0.946900  0.996679\n",
      "dissimilar_1-4  100.0  0.920997  0.056470  0.800760  0.881157  0.919839  0.971132  1.000000\n",
      "dissimilar_2-3  100.0  0.964618  0.046174  0.760446  0.934273  0.984042  1.000000  1.000000\n",
      "dissimilar_2-4  100.0  0.929053  0.050465  0.783085  0.895169  0.945925  0.964254  1.000000\n",
      "dissimilar_3-1  100.0  0.912313  0.038146  0.820629  0.881834  0.917090  0.946900  0.996679\n",
      "dissimilar_3-2  100.0  0.964618  0.046174  0.760446  0.934273  0.984042  1.000000  1.000000\n",
      "dissimilar_4-1  100.0  0.920997  0.056470  0.800760  0.881157  0.919839  0.971132  1.000000\n",
      "dissimilar_4-2  100.0  0.929053  0.050465  0.783085  0.895169  0.945925  0.964254  1.000000\n",
      "same_1          100.0  0.236700  0.160536  0.000000  0.137817  0.229683  0.342706  0.572875\n",
      "same_2          100.0  0.081246  0.064056  0.000000  0.026825  0.074781  0.135325  0.205090\n",
      "same_3          100.0  0.093156  0.104480  0.000000  0.000000  0.046040  0.199059  0.301813\n",
      "same_4          100.0  0.021020  0.040488  0.000000  0.000000  0.000000  0.020456  0.182410\n",
      "similar_1-2     100.0  0.589528  0.122215  0.144574  0.558182  0.614076  0.670134  0.789994\n",
      "similar_2-1     100.0  0.589528  0.122215  0.144574  0.558182  0.614076  0.670134  0.789994\n",
      "similar_3-4     100.0  0.680068  0.058094  0.467543  0.650687  0.690981  0.720582  0.794730\n",
      "similar_4-3     100.0  0.680068  0.058094  0.467543  0.650687  0.690981  0.720582  0.794730\n",
      "/home/john/Research/EmbeddingGraphs/cfg2vec/analysis/../data/Images/heatmaps/combined_c2v_LC.png\n",
      "Training combined code2vec VC based model now\n",
      "Distance Summary\n",
      "                count      mean       std       min       25%       50%       75%       max\n",
      "dissimilar_1-3  100.0  0.912706  0.039061  0.817692  0.882835  0.912361  0.947625  0.990323\n",
      "dissimilar_1-4  100.0  0.915457  0.056762  0.787933  0.875327  0.914546  0.963820  1.000000\n",
      "dissimilar_2-3  100.0  0.966817  0.045387  0.764366  0.933640  0.990017  1.000000  1.000000\n",
      "dissimilar_2-4  100.0  0.924929  0.048631  0.781514  0.896663  0.936479  0.962622  1.000000\n",
      "dissimilar_3-1  100.0  0.912706  0.039061  0.817692  0.882835  0.912361  0.947625  0.990323\n",
      "dissimilar_3-2  100.0  0.966817  0.045387  0.764366  0.933640  0.990017  1.000000  1.000000\n",
      "dissimilar_4-1  100.0  0.915457  0.056762  0.787933  0.875327  0.914546  0.963820  1.000000\n",
      "dissimilar_4-2  100.0  0.924929  0.048631  0.781514  0.896663  0.936479  0.962622  1.000000\n",
      "same_1          100.0  0.228981  0.157328  0.000000  0.131481  0.223286  0.343006  0.565787\n",
      "same_2          100.0  0.076017  0.066025  0.000000  0.009443  0.064307  0.129890  0.203763\n",
      "same_3          100.0  0.100473  0.110562  0.000000  0.000000  0.050781  0.204190  0.334985\n",
      "same_4          100.0  0.023420  0.041672  0.000000  0.000000  0.000000  0.034353  0.181603\n",
      "similar_1-2     100.0  0.582688  0.125202  0.133538  0.552293  0.609103  0.668356  0.784096\n",
      "similar_2-1     100.0  0.582688  0.125202  0.133538  0.552293  0.609103  0.668356  0.784096\n",
      "similar_3-4     100.0  0.681497  0.059269  0.459238  0.649635  0.691431  0.722155  0.794953\n",
      "similar_4-3     100.0  0.681497  0.059269  0.459238  0.649635  0.691431  0.722155  0.794953\n",
      "/home/john/Research/EmbeddingGraphs/cfg2vec/analysis/../data/Images/heatmaps/combined_c2v_VC.png\n",
      "Training combined code2vec NC based model now\n",
      "Distance Summary\n",
      "                count      mean       std       min       25%       50%       75%       max\n",
      "dissimilar_1-3  100.0  0.911026  0.038667  0.815791  0.879816  0.917388  0.944774  0.976261\n",
      "dissimilar_1-4  100.0  0.920789  0.054434  0.803931  0.881573  0.917330  0.970840  1.000000\n",
      "dissimilar_2-3  100.0  0.969234  0.043042  0.760410  0.959093  0.986921  1.000000  1.000000\n",
      "dissimilar_2-4  100.0  0.935041  0.046165  0.786818  0.906502  0.944302  0.966228  1.000000\n",
      "dissimilar_3-1  100.0  0.911026  0.038667  0.815791  0.879816  0.917388  0.944774  0.976261\n",
      "dissimilar_3-2  100.0  0.969234  0.043042  0.760410  0.959093  0.986921  1.000000  1.000000\n",
      "dissimilar_4-1  100.0  0.920789  0.054434  0.803931  0.881573  0.917330  0.970840  1.000000\n",
      "dissimilar_4-2  100.0  0.935041  0.046165  0.786818  0.906502  0.944302  0.966228  1.000000\n",
      "same_1          100.0  0.234658  0.163194  0.000000  0.129636  0.233896  0.351125  0.594046\n",
      "same_2          100.0  0.120248  0.109997  0.000000  0.024121  0.100540  0.202675  0.375310\n",
      "same_3          100.0  0.086877  0.107013  0.000000  0.000000  0.013285  0.198632  0.311362\n",
      "same_4          100.0  0.048239  0.064760  0.000000  0.000000  0.008102  0.092848  0.240946\n",
      "similar_1-2     100.0  0.596303  0.116620  0.189471  0.562924  0.623075  0.672256  0.790634\n",
      "similar_2-1     100.0  0.596303  0.116620  0.189471  0.562924  0.623075  0.672256  0.790634\n",
      "similar_3-4     100.0  0.683462  0.055690  0.464625  0.654219  0.694415  0.722927  0.759989\n",
      "similar_4-3     100.0  0.683462  0.055690  0.464625  0.654219  0.694415  0.722927  0.759989\n",
      "/home/john/Research/EmbeddingGraphs/cfg2vec/analysis/../data/Images/heatmaps/combined_c2v_NC.png\n"
     ]
    },
    {
     "data": {
      "text/plain": [
       "<Figure size 640x480 with 0 Axes>"
      ]
     },
     "metadata": {},
     "output_type": "display_data"
    }
   ],
   "source": [
    "heatmap_dir = data_dir / 'Images' / 'heatmaps'\n",
    "heatmap_dir.mkdir(parents=True, exist_ok=True)\n",
    "for file, size, lstr in vector_files:\n",
    "    print()\n",
    "    print(file.stem)\n",
    "    heat_map(pd.read_csv(file, dtype=dtype_default_dict), size, heatmap_dir / f'{file.stem}.png', lstr)\n",
    "\n",
    "for strat in ['FC', 'LC', 'VC', 'NC']:\n",
    "    print(f\"Training combined code2vec {strat} based model now\")\n",
    "    c2v_vectors = pd.read_csv(data_dir / 'vectors' / 'code2vec.csv')\n",
    "    strat_vectors = pd.read_csv(data_dir / 'vectors' / f'{strat}-vectors-5.csv')\n",
    "    merged_vectors = pd.merge(c2v_vectors, strat_vectors, on='CodeStateID')\n",
    "    merged_vectors = merged_vectors[[c for c in merged_vectors if c not in ['CodeStateID']] + ['CodeStateID']]\n",
    "    merged_vectors.columns = [x for x in range(384 + 128)] + ['CodeStateID']\n",
    "    heat_map(merged_vectors, 384 + 128, heatmap_dir / f'combined_c2v_{strat}.png', '')"
   ]
  },
  {
   "cell_type": "markdown",
   "id": "7c538f8a",
   "metadata": {
    "pycharm": {
     "name": "#%% md\n"
    }
   },
   "source": [
    "Useful regex to extract results to table `(.*?)\\s+([\\d\\.]+)?(NaN)?\\s+([\\d\\.]+)?(NaN)?\\s+(\\(.*\\))?(NaN)?`"
   ]
  },
  {
   "cell_type": "code",
   "execution_count": null,
   "metadata": {
    "collapsed": false,
    "pycharm": {
     "name": "#%%\n"
    }
   },
   "outputs": [],
   "source": [
    "foo = \"12345\"\n",
    "bar = \"12\"\n",
    "foo[len(bar):]"
   ]
  },
  {
   "cell_type": "code",
   "execution_count": null,
   "metadata": {
    "collapsed": false,
    "pycharm": {
     "name": "#%%\n"
    }
   },
   "outputs": [],
   "source": []
  }
 ],
 "metadata": {
  "kernelspec": {
   "display_name": "Python 3 (ipykernel)",
   "language": "python",
   "name": "python3"
  },
  "language_info": {
   "codemirror_mode": {
    "name": "ipython",
    "version": 3
   },
   "file_extension": ".py",
   "mimetype": "text/x-python",
   "name": "python",
   "nbconvert_exporter": "python",
   "pygments_lexer": "ipython3",
   "version": "3.9.16"
  }
 },
 "nbformat": 4,
 "nbformat_minor": 5
}
