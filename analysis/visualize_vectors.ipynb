{
 "cells": [
  {
   "cell_type": "code",
   "execution_count": 1,
   "id": "265a8b5e-7d30-462d-af43-3f41fc0a5ab5",
   "metadata": {
    "pycharm": {
     "name": "#%%\n"
    }
   },
   "outputs": [],
   "source": [
    "import itertools\n",
    "import random\n",
    "from pathlib import Path\n",
    "\n",
    "import matplotlib.pyplot as plt\n",
    "import numpy as np\n",
    "import pandas as pd\n",
    "from seaborn import heatmap"
   ]
  },
  {
   "cell_type": "code",
   "execution_count": 2,
   "id": "a55d4013",
   "metadata": {
    "pycharm": {
     "name": "#%%\n"
    }
   },
   "outputs": [],
   "source": [
    "pd.set_option('display.max_columns', None)\n",
    "pd.set_option('display.expand_frame_repr', False)\n",
    "pd.set_option('max_colwidth', None)"
   ]
  },
  {
   "cell_type": "code",
   "execution_count": 3,
   "id": "94080f6b-ef0c-44ce-816c-764e6393ba54",
   "metadata": {
    "pycharm": {
     "name": "#%%\n"
    }
   },
   "outputs": [
    {
     "data": {
      "text/plain": "                                                          SubjectID Assignment                                                       CodeStateID  Score  ExamGrade\n0  014604ba54339d4b1266cf78e125053a5ac11dd861ef3cc0b4ed777ed0e2af0a      439-1  79c9e2da9bc703116d8768297056db22866c43d583e529d73bf25235f1ca6b16    1.0       0.97\n1  014604ba54339d4b1266cf78e125053a5ac11dd861ef3cc0b4ed777ed0e2af0a      439-1  79c9e2da9bc703116d8768297056db22866c43d583e529d73bf25235f1ca6b16    1.0       0.97\n2  014604ba54339d4b1266cf78e125053a5ac11dd861ef3cc0b4ed777ed0e2af0a      439-3  0e91ae5696da0d6a724380360147b8699a25c14ff4622713875f92127b52737b    1.0       0.97\n3  014604ba54339d4b1266cf78e125053a5ac11dd861ef3cc0b4ed777ed0e2af0a      439-3  0e91ae5696da0d6a724380360147b8699a25c14ff4622713875f92127b52737b    1.0       0.97\n4  014604ba54339d4b1266cf78e125053a5ac11dd861ef3cc0b4ed777ed0e2af0a      439-5  1b38c7b1c7ebca281bbbc270d1b896484de663045c715fd4ec54ab6b36859106    1.0       0.97",
      "text/html": "<div>\n<style scoped>\n    .dataframe tbody tr th:only-of-type {\n        vertical-align: middle;\n    }\n\n    .dataframe tbody tr th {\n        vertical-align: top;\n    }\n\n    .dataframe thead th {\n        text-align: right;\n    }\n</style>\n<table border=\"1\" class=\"dataframe\">\n  <thead>\n    <tr style=\"text-align: right;\">\n      <th></th>\n      <th>SubjectID</th>\n      <th>Assignment</th>\n      <th>CodeStateID</th>\n      <th>Score</th>\n      <th>ExamGrade</th>\n    </tr>\n  </thead>\n  <tbody>\n    <tr>\n      <th>0</th>\n      <td>014604ba54339d4b1266cf78e125053a5ac11dd861ef3cc0b4ed777ed0e2af0a</td>\n      <td>439-1</td>\n      <td>79c9e2da9bc703116d8768297056db22866c43d583e529d73bf25235f1ca6b16</td>\n      <td>1.0</td>\n      <td>0.97</td>\n    </tr>\n    <tr>\n      <th>1</th>\n      <td>014604ba54339d4b1266cf78e125053a5ac11dd861ef3cc0b4ed777ed0e2af0a</td>\n      <td>439-1</td>\n      <td>79c9e2da9bc703116d8768297056db22866c43d583e529d73bf25235f1ca6b16</td>\n      <td>1.0</td>\n      <td>0.97</td>\n    </tr>\n    <tr>\n      <th>2</th>\n      <td>014604ba54339d4b1266cf78e125053a5ac11dd861ef3cc0b4ed777ed0e2af0a</td>\n      <td>439-3</td>\n      <td>0e91ae5696da0d6a724380360147b8699a25c14ff4622713875f92127b52737b</td>\n      <td>1.0</td>\n      <td>0.97</td>\n    </tr>\n    <tr>\n      <th>3</th>\n      <td>014604ba54339d4b1266cf78e125053a5ac11dd861ef3cc0b4ed777ed0e2af0a</td>\n      <td>439-3</td>\n      <td>0e91ae5696da0d6a724380360147b8699a25c14ff4622713875f92127b52737b</td>\n      <td>1.0</td>\n      <td>0.97</td>\n    </tr>\n    <tr>\n      <th>4</th>\n      <td>014604ba54339d4b1266cf78e125053a5ac11dd861ef3cc0b4ed777ed0e2af0a</td>\n      <td>439-5</td>\n      <td>1b38c7b1c7ebca281bbbc270d1b896484de663045c715fd4ec54ab6b36859106</td>\n      <td>1.0</td>\n      <td>0.97</td>\n    </tr>\n  </tbody>\n</table>\n</div>"
     },
     "execution_count": 3,
     "metadata": {},
     "output_type": "execute_result"
    }
   ],
   "source": [
    "# Load final exam and assignment data\n",
    "data = pd.DataFrame(columns=['SubjectID', 'Assignment', 'CodeStateID'])\n",
    "grades = {}\n",
    "scores = {}\n",
    "total_non_compile = 0\n",
    "data_dir = Path.cwd() / 'data'\n",
    "for directory in [data_dir / 'F19_All' / 'Train', data_dir / 'S19_All']:\n",
    "    grade_data = pd.read_csv(directory / 'Data' / 'LinkTables' / 'Subject.csv')\n",
    "    for row in grade_data.itertuples():\n",
    "        grades[row.SubjectID] = row._2 if directory.name == 'S19_All' else row._2 / 100\n",
    "    main = pd.read_csv(directory / 'Data' / 'MainTable.csv')\n",
    "    total_non_compile += len(main['CodeStateID'].unique())\n",
    "    for row in main[main['EventType'] == 'Run.Program'].itertuples():\n",
    "        scores[row.CodeStateID] = row.Score\n",
    "    main['Assignment'] = [f'{int(x[0])}-{int(x[1])}' for x in list(zip(main['AssignmentID'], main['ProblemID']))]\n",
    "    data = pd.concat([data, main[['SubjectID', 'Assignment', 'CodeStateID']]], ignore_index=True)\n",
    "\n",
    "data['Score'] = [scores[x] for x in data['CodeStateID']]\n",
    "data['ExamGrade'] = [grades[x] if x in grades else 0 for x in data['SubjectID']]\n",
    "data = data[data['Score'] == 1]\n",
    "data.head()"
   ]
  },
  {
   "cell_type": "code",
   "execution_count": 4,
   "id": "c53b9c8a-e88f-44e3-95f3-7ced598632fb",
   "metadata": {
    "pycharm": {
     "name": "#%%\n"
    }
   },
   "outputs": [],
   "source": [
    "random.seed(1)\n",
    "code_ids = data['CodeStateID']\n",
    "assignments = data['Assignment']\n",
    "assign_c = {}\n",
    "unique_assignments = data['Assignment'].unique()\n",
    "for assign in unique_assignments:\n",
    "    assign_c[assign] = (random.random(), random.random(), random.random())\n",
    "assign_lookup = {}\n",
    "for c_id, assign in zip(code_ids, assignments):\n",
    "    assign_lookup[c_id] = assign"
   ]
  },
  {
   "cell_type": "code",
   "execution_count": 4,
   "id": "902b90b1",
   "metadata": {
    "pycharm": {
     "name": "#%%\n"
    }
   },
   "outputs": [],
   "source": []
  },
  {
   "cell_type": "code",
   "execution_count": 5,
   "id": "eb8bb6b0",
   "metadata": {
    "pycharm": {
     "name": "#%%\n"
    }
   },
   "outputs": [
    {
     "data": {
      "text/plain": "[('code2vec', 384, ''),\n ('tf_idf', 50, ''),\n ('deepwalk', 50, ''),\n ('node2vec', 50, ''),\n ('fullCanonicalizationdeepwalk', 50, ''),\n ('noneCanonicalizationdeepwalk', 50, ''),\n ('origCanonicalizationdeepwalk', 50, ''),\n ('partCanonicalizationdeepwalk', 50, ''),\n ('FC-deepwalk', 50, 'FC-'),\n ('LC-deepwalk', 50, 'LC-'),\n ('NC-deepwalk', 50, 'NC-'),\n ('VC-deepwalk', 50, 'VC-'),\n ('fullCanonicalizationnode2vec', 50, ''),\n ('noneCanonicalizationnode2vec', 50, ''),\n ('origCanonicalizationnode2vec', 50, ''),\n ('partCanonicalizationnode2vec', 50, ''),\n ('FC-node2vec', 50, 'FC-'),\n ('LC-node2vec', 50, 'LC-'),\n ('NC-node2vec', 50, 'NC-'),\n ('VC-node2vec', 50, 'VC-')]"
     },
     "execution_count": 5,
     "metadata": {},
     "output_type": "execute_result"
    }
   ],
   "source": [
    "embedding_vectors = [\n",
    "    ('code2vec', 384, ''),\n",
    "    ('tf_idf', 50, ''),\n",
    "    ('deepwalk', 50, ''),\n",
    "    ('node2vec', 50, '')\n",
    "]\n",
    "\n",
    "embedding_methods = ['deepwalk', 'node2vec']\n",
    "cstrats = [(f'{strat}Canonicalization', '') for strat in ['full', 'none', 'orig', 'part']]\n",
    "cstrats.extend((f'{strat}C-', f'{strat}C-') for strat in ['F', 'L', 'N', 'V'])\n",
    "embedding_vectors.extend((f'{strat}{method}', 50, lstr) for method, (strat, lstr) in itertools.product(embedding_methods, cstrats))\n",
    "embedding_vectors"
   ]
  },
  {
   "cell_type": "code",
   "execution_count": 7,
   "id": "9bf2ef7c",
   "metadata": {
    "pycharm": {
     "name": "#%%\n"
    }
   },
   "outputs": [],
   "source": [
    "vector_dir = Path.cwd() / 'data' / 'Vectors'\n",
    "vector_files = [(vector_dir / f'{f}.csv', s, l) for f, s, l in embedding_vectors]"
   ]
  },
  {
   "cell_type": "code",
   "execution_count": 8,
   "id": "56ed2e4f",
   "metadata": {
    "pycharm": {
     "name": "#%%\n"
    }
   },
   "outputs": [],
   "source": [
    "def get_distance_summary(dist_groups: dict):\n",
    "    print(\"Distance Summary\")\n",
    "    dist_df = pd.DataFrame.from_dict(dist_groups)\n",
    "    dist_df = dist_df.T\n",
    "    dist_df = (dist_df - dist_df.min()) / (dist_df.max() - dist_df.min())\n",
    "    dist_df = dist_df.T\n",
    "    return dist_df.describe().T.sort_index()\n",
    "\n",
    "\n",
    "how_similar = {\n",
    "    (1, 2): 'similar',\n",
    "    (1, 3): 'dissimilar',\n",
    "    (1, 4): 'dissimilar',\n",
    "    (2, 3): 'dissimilar',\n",
    "    (2, 4): 'dissimilar',\n",
    "    (3, 4): 'similar'\n",
    "}\n",
    "\n",
    "ex_map = {\n",
    "    '487-20': 1,\n",
    "    '439-236': 2,\n",
    "    '439-232': 3,\n",
    "    '439-234': 4\n",
    "}\n",
    "\n",
    "\n",
    "def get_dist_group_name(p1, p2):\n",
    "    p1 = ex_map[p1]\n",
    "    p2 = ex_map[p2]\n",
    "    if p1 == p2:\n",
    "        return f'same_{p1}'\n",
    "    s1, s2 = sorted([p1, p2])\n",
    "    return f'{how_similar[(s1, s2)]}_{p1}-{p2}'\n",
    "\n",
    "\n",
    "def add_to_dist_groups(groups, dist, p1, p2):\n",
    "    group_name = get_dist_group_name(p1, p2)\n",
    "    if group_name not in groups:\n",
    "        groups[group_name] = []\n",
    "    groups[group_name].append(dist)"
   ]
  },
  {
   "cell_type": "markdown",
   "source": [
    "# TODO: Discuss how we generate the heatmap distances"
   ],
   "metadata": {
    "collapsed": false,
    "pycharm": {
     "name": "#%% md\n"
    }
   }
  },
  {
   "cell_type": "code",
   "execution_count": 12,
   "id": "025dee53-1c26-46ff-aaa1-119ca184c646",
   "metadata": {
    "pycharm": {
     "name": "#%%\n"
    }
   },
   "outputs": [],
   "source": [
    "def heat_map(frame, vector_size, output, lstr):\n",
    "    PROBLEMS = ['439-236', '487-20', '439-232', '439-234']\n",
    "    random.seed(1)\n",
    "    vector_map = {}\n",
    "    vectors = np.array(frame.iloc[:, 0:vector_size])\n",
    "    c_ids = frame['CodeStateID']\n",
    "    for v, c in zip(vectors, c_ids):\n",
    "        vector_map[c[len(lstr):]] = v\n",
    "    filt = data[[x in vector_map for x in data['CodeStateID']]]\n",
    "    chosen_ids = []\n",
    "    for problem in PROBLEMS:\n",
    "        filt2 = filt[filt['Assignment'] == problem].reset_index()\n",
    "        chosen_ids += random.sample(list(filt2['CodeStateID']), 10)\n",
    "    chosen_vectors = [vector_map[x] for x in chosen_ids]\n",
    "    distances = np.zeros((len(chosen_vectors), len(chosen_vectors)))\n",
    "    dist_groups = {}\n",
    "    problems = [p for p in itertools.chain.from_iterable([[p] * 10 for p in PROBLEMS])]\n",
    "    for p1_index, p1 in enumerate(problems):\n",
    "        for p2_index, p2 in enumerate(problems):\n",
    "            dist = np.linalg.norm(chosen_vectors[p1_index] - chosen_vectors[p2_index])\n",
    "            add_to_dist_groups(dist_groups, dist, p1, p2)\n",
    "            distances[p1_index][p2_index] = dist\n",
    "            distances[p2_index][p1_index] = dist\n",
    "    print(get_distance_summary(dist_groups))\n",
    "    heatmap(distances)\n",
    "    print(output)\n",
    "    plt.savefig(output)\n",
    "    plt.clf()"
   ]
  },
  {
   "cell_type": "markdown",
   "source": [
    "# TODO: Discuss why this is an ideal heat map"
   ],
   "metadata": {
    "collapsed": false,
    "pycharm": {
     "name": "#%% md\n"
    }
   }
  },
  {
   "cell_type": "code",
   "execution_count": 10,
   "id": "c6658013-49bd-4226-9802-a663333dd7d9",
   "metadata": {
    "pycharm": {
     "name": "#%%\n"
    }
   },
   "outputs": [
    {
     "name": "stdout",
     "output_type": "stream",
     "text": [
      "Ideal heat map\n"
     ]
    },
    {
     "data": {
      "text/plain": "<Figure size 432x288 with 2 Axes>",
      "image/png": "[encoded data removed]"
     },
     "metadata": {
      "needs_background": "light"
     },
     "output_type": "display_data"
    }
   ],
   "source": [
    "print(\"Ideal heat map\")\n",
    "vectors = []\n",
    "distances = np.zeros((40, 40))\n",
    "for i in range(10):\n",
    "    vectors.append(np.array([0, 1, 1]))\n",
    "for i in range(10):\n",
    "    vectors.append(np.array([1, 2, 1]))\n",
    "for i in range(10):\n",
    "    vectors.append(np.array([3, 0, 0]))\n",
    "for i in range(10):\n",
    "    vectors.append(np.array([3, 1, 0]))\n",
    "for i in range(len(vectors)):\n",
    "    for j in range(i, len(vectors)):\n",
    "        dist = np.linalg.norm(vectors[i] - vectors[j])\n",
    "        distances[i][j] = dist\n",
    "        distances[j][i] = dist\n",
    "heatmap(distances)\n",
    "plt.show()"
   ]
  },
  {
   "cell_type": "code",
   "execution_count": 13,
   "id": "69b68432-810a-438a-a9cf-9fd0f875dc06",
   "metadata": {
    "pycharm": {
     "name": "#%%\n"
    }
   },
   "outputs": [
    {
     "name": "stdout",
     "output_type": "stream",
     "text": [
      "\n",
      "code2vec\n",
      "Distance Summary\n",
      "                count      mean       std       min       25%       50%       75%       max\n",
      "dissimilar_1-3  100.0  0.880234  0.085547  0.602185  0.832658  0.903266  0.943112  0.997453\n",
      "dissimilar_1-4  100.0  0.920379  0.088515  0.706778  0.844130  0.957955  1.000000  1.000000\n",
      "dissimilar_2-3  100.0  0.909770  0.061258  0.759085  0.869128  0.910980  0.956155  1.000000\n",
      "dissimilar_2-4  100.0  0.901364  0.050679  0.794648  0.864032  0.897367  0.931879  1.000000\n",
      "dissimilar_3-1  100.0  0.880234  0.085547  0.602185  0.832658  0.903266  0.943112  0.997453\n",
      "dissimilar_3-2  100.0  0.909770  0.061258  0.759085  0.869128  0.910980  0.956155  1.000000\n",
      "dissimilar_4-1  100.0  0.920379  0.088515  0.706778  0.844130  0.957955  1.000000  1.000000\n",
      "dissimilar_4-2  100.0  0.901364  0.050679  0.794648  0.864032  0.897367  0.931879  1.000000\n",
      "same_1          100.0  0.217939  0.137123  0.000000  0.117459  0.222085  0.324113  0.464224\n",
      "same_2          100.0  0.086237  0.074617  0.000000  0.007985  0.088717  0.144851  0.278817\n",
      "same_3          100.0  0.043578  0.051977  0.000000  0.000000  0.022289  0.078144  0.177890\n",
      "same_4          100.0  0.037036  0.043731  0.000000  0.000000  0.031862  0.057620  0.145630\n",
      "similar_1-2     100.0  0.614867  0.109974  0.341618  0.531919  0.632314  0.702140  0.806783\n",
      "similar_2-1     100.0  0.614867  0.109974  0.341618  0.531919  0.632314  0.702140  0.806783\n",
      "similar_3-4     100.0  0.653684  0.044868  0.508721  0.635076  0.660083  0.677804  0.749800\n",
      "similar_4-3     100.0  0.653684  0.044868  0.508721  0.635076  0.660083  0.677804  0.749800\n",
      "/home/john/Research/EmbeddingGraphs/cfg2vec/data/Images/heatmaps/code2vec.png\n",
      "\n",
      "tf_idf\n",
      "Distance Summary\n",
      "                count      mean       std  min       25%       50%       75%       max\n",
      "dissimilar_1-3  100.0  0.546359  0.341661  0.0  0.312058  0.421839  0.933103  1.000000\n",
      "dissimilar_1-4  100.0  0.522424  0.290497  0.0  0.388328  0.466077  0.791174  1.000000\n",
      "dissimilar_2-3  100.0  0.409404  0.331830  0.0  0.082971  0.523890  0.672221  1.000000\n",
      "dissimilar_2-4  100.0  0.382181  0.283954  0.0  0.137590  0.244024  0.648563  1.000000\n",
      "dissimilar_3-1  100.0  0.546359  0.341661  0.0  0.312058  0.421839  0.933103  1.000000\n",
      "dissimilar_3-2  100.0  0.409404  0.331830  0.0  0.082971  0.523890  0.672221  1.000000\n",
      "dissimilar_4-1  100.0  0.522424  0.290497  0.0  0.388328  0.466077  0.791174  1.000000\n",
      "dissimilar_4-2  100.0  0.382181  0.283954  0.0  0.137590  0.244024  0.648563  1.000000\n",
      "same_1          100.0  0.486257  0.422005  0.0  0.000000  0.545365  0.897400  1.000000\n",
      "same_2          100.0  0.370838  0.372977  0.0  0.000000  0.239753  0.691721  0.975479\n",
      "same_3          100.0  0.340088  0.319531  0.0  0.009563  0.217027  0.594430  1.000000\n",
      "same_4          100.0  0.275901  0.287100  0.0  0.000000  0.162973  0.509468  0.820879\n",
      "similar_1-2     100.0  0.535005  0.322526  0.0  0.284364  0.394479  0.934902  1.000000\n",
      "similar_2-1     100.0  0.535005  0.322526  0.0  0.284364  0.394479  0.934902  1.000000\n",
      "similar_3-4     100.0  0.338439  0.287553  0.0  0.057032  0.401037  0.564575  1.000000\n",
      "similar_4-3     100.0  0.338439  0.287553  0.0  0.057032  0.401037  0.564575  1.000000\n",
      "/home/john/Research/EmbeddingGraphs/cfg2vec/data/Images/heatmaps/tf_idf.png\n",
      "\n",
      "deepwalk\n",
      "Distance Summary\n",
      "                count      mean       std       min       25%       50%       75%       max\n",
      "dissimilar_1-3  100.0  0.967068  0.032151  0.845953  0.954657  0.973301  0.991722  1.000000\n",
      "dissimilar_1-4  100.0  0.959598  0.034564  0.836154  0.951142  0.968192  0.981090  1.000000\n",
      "dissimilar_2-3  100.0  0.946113  0.036783  0.838339  0.939400  0.958068  0.971152  1.000000\n",
      "dissimilar_2-4  100.0  0.963772  0.048958  0.785795  0.952120  0.985819  1.000000  1.000000\n",
      "dissimilar_3-1  100.0  0.967068  0.032151  0.845953  0.954657  0.973301  0.991722  1.000000\n",
      "dissimilar_3-2  100.0  0.946113  0.036783  0.838339  0.939400  0.958068  0.971152  1.000000\n",
      "dissimilar_4-1  100.0  0.959598  0.034564  0.836154  0.951142  0.968192  0.981090  1.000000\n",
      "dissimilar_4-2  100.0  0.963772  0.048958  0.785795  0.952120  0.985819  1.000000  1.000000\n",
      "same_1          100.0  0.173769  0.198052  0.000000  0.000000  0.069284  0.259383  0.592829\n",
      "same_2          100.0  0.045488  0.057025  0.000000  0.000000  0.012982  0.092770  0.177023\n",
      "same_3          100.0  0.109424  0.085678  0.000000  0.007858  0.129164  0.181534  0.263564\n",
      "same_4          100.0  0.106400  0.094846  0.000000  0.000000  0.100120  0.150606  0.336324\n",
      "similar_1-2     100.0  0.386812  0.098695  0.196369  0.333375  0.359024  0.403105  0.701770\n",
      "similar_2-1     100.0  0.386812  0.098695  0.196369  0.333375  0.359024  0.403105  0.701770\n",
      "similar_3-4     100.0  0.909501  0.042260  0.755888  0.896696  0.921073  0.940755  0.970001\n",
      "similar_4-3     100.0  0.909501  0.042260  0.755888  0.896696  0.921073  0.940755  0.970001\n",
      "/home/john/Research/EmbeddingGraphs/cfg2vec/data/Images/heatmaps/deepwalk.png\n",
      "\n",
      "node2vec\n",
      "Distance Summary\n",
      "                count      mean       std       min       25%       50%       75%       max\n",
      "dissimilar_1-3  100.0  0.927803  0.047473  0.789863  0.899119  0.932891  0.961318  1.000000\n",
      "dissimilar_1-4  100.0  0.974935  0.040141  0.837368  0.964999  0.999644  1.000000  1.000000\n",
      "dissimilar_2-3  100.0  0.875373  0.049507  0.712528  0.844025  0.891974  0.912792  0.948226\n",
      "dissimilar_2-4  100.0  0.888177  0.054398  0.748648  0.879519  0.904257  0.923575  0.965582\n",
      "dissimilar_3-1  100.0  0.927803  0.047473  0.789863  0.899119  0.932891  0.961318  1.000000\n",
      "dissimilar_3-2  100.0  0.875373  0.049507  0.712528  0.844025  0.891974  0.912792  0.948226\n",
      "dissimilar_4-1  100.0  0.974935  0.040141  0.837368  0.964999  0.999644  1.000000  1.000000\n",
      "dissimilar_4-2  100.0  0.888177  0.054398  0.748648  0.879519  0.904257  0.923575  0.965582\n",
      "same_1          100.0  0.180626  0.176773  0.000000  0.000000  0.135155  0.329415  0.563051\n",
      "same_2          100.0  0.064779  0.086478  0.000000  0.000000  0.001988  0.119541  0.302962\n",
      "same_3          100.0  0.187980  0.139838  0.000000  0.001896  0.214050  0.308046  0.414036\n",
      "same_4          100.0  0.170898  0.139496  0.000000  0.000000  0.181744  0.264277  0.472607\n",
      "similar_1-2     100.0  0.389788  0.098858  0.146178  0.334614  0.374708  0.434315  0.695875\n",
      "similar_2-1     100.0  0.389788  0.098858  0.146178  0.334614  0.374708  0.434315  0.695875\n",
      "similar_3-4     100.0  0.800776  0.063651  0.623895  0.760850  0.811218  0.849692  0.915562\n",
      "similar_4-3     100.0  0.800776  0.063651  0.623895  0.760850  0.811218  0.849692  0.915562\n",
      "/home/john/Research/EmbeddingGraphs/cfg2vec/data/Images/heatmaps/node2vec.png\n",
      "\n",
      "fullCanonicalizationdeepwalk\n",
      "Distance Summary\n",
      "                count      mean       std       min       25%       50%       75%       max\n",
      "dissimilar_1-3  100.0  0.916251  0.083413  0.699321  0.901535  0.936401  0.987365  1.000000\n",
      "dissimilar_1-4  100.0  0.858185  0.107242  0.660893  0.777884  0.865289  0.962463  1.000000\n",
      "dissimilar_2-3  100.0  0.845579  0.103301  0.610223  0.787157  0.855466  0.907036  1.000000\n",
      "dissimilar_2-4  100.0  0.738821  0.118222  0.495795  0.641672  0.738441  0.812719  1.000000\n",
      "dissimilar_3-1  100.0  0.916251  0.083413  0.699321  0.901535  0.936401  0.987365  1.000000\n",
      "dissimilar_3-2  100.0  0.845579  0.103301  0.610223  0.787157  0.855466  0.907036  1.000000\n",
      "dissimilar_4-1  100.0  0.858185  0.107242  0.660893  0.777884  0.865289  0.962463  1.000000\n",
      "dissimilar_4-2  100.0  0.738821  0.118222  0.495795  0.641672  0.738441  0.812719  1.000000\n",
      "same_1          100.0  0.312593  0.351306  0.000000  0.000000  0.243008  0.502034  0.984733\n",
      "same_2          100.0  0.107961  0.135320  0.000000  0.000000  0.021231  0.193890  0.476567\n",
      "same_3          100.0  0.328435  0.290301  0.000000  0.022028  0.210737  0.591302  0.829340\n",
      "same_4          100.0  0.473331  0.257835  0.000000  0.355948  0.522581  0.661661  0.919771\n",
      "similar_1-2     100.0  0.535952  0.236735  0.000000  0.438136  0.544848  0.624029  1.000000\n",
      "similar_2-1     100.0  0.535952  0.236735  0.000000  0.438136  0.544848  0.624029  1.000000\n",
      "similar_3-4     100.0  0.656679  0.150830  0.208296  0.561175  0.657654  0.749801  0.989976\n",
      "similar_4-3     100.0  0.656679  0.150830  0.208296  0.561175  0.657654  0.749801  0.989976\n",
      "/home/john/Research/EmbeddingGraphs/cfg2vec/data/Images/heatmaps/fullCanonicalizationdeepwalk.png\n",
      "\n",
      "noneCanonicalizationdeepwalk\n",
      "Distance Summary\n",
      "                count      mean       std       min       25%       50%       75%       max\n",
      "dissimilar_1-3  100.0  0.959763  0.039783  0.800619  0.926087  0.970414  1.000000  1.000000\n",
      "dissimilar_1-4  100.0  0.962028  0.036411  0.784987  0.941129  0.965584  0.994175  1.000000\n",
      "dissimilar_2-3  100.0  0.883595  0.044630  0.721164  0.853606  0.881984  0.915578  0.978093\n",
      "dissimilar_2-4  100.0  0.872180  0.048241  0.699425  0.836085  0.872411  0.903359  0.987524\n",
      "dissimilar_3-1  100.0  0.959763  0.039783  0.800619  0.926087  0.970414  1.000000  1.000000\n",
      "dissimilar_3-2  100.0  0.883595  0.044630  0.721164  0.853606  0.881984  0.915578  0.978093\n",
      "dissimilar_4-1  100.0  0.962028  0.036411  0.784987  0.941129  0.965584  0.994175  1.000000\n",
      "dissimilar_4-2  100.0  0.872180  0.048241  0.699425  0.836085  0.872411  0.903359  0.987524\n",
      "same_1          100.0  0.245920  0.306394  0.000000  0.000000  0.076859  0.336750  0.888523\n",
      "same_2          100.0  0.148562  0.155812  0.000000  0.000000  0.095388  0.296216  0.433921\n",
      "same_3          100.0  0.175048  0.183563  0.000000  0.000000  0.122459  0.345282  0.574361\n",
      "same_4          100.0  0.340820  0.210217  0.000000  0.186984  0.436003  0.529145  0.603916\n",
      "similar_1-2     100.0  0.487271  0.166844  0.221756  0.376514  0.454167  0.526992  0.947177\n",
      "similar_2-1     100.0  0.487271  0.166844  0.221756  0.376514  0.454167  0.526992  0.947177\n",
      "similar_3-4     100.0  0.897296  0.057229  0.701878  0.868318  0.897401  0.925939  1.000000\n",
      "similar_4-3     100.0  0.897296  0.057229  0.701878  0.868318  0.897401  0.925939  1.000000\n",
      "/home/john/Research/EmbeddingGraphs/cfg2vec/data/Images/heatmaps/noneCanonicalizationdeepwalk.png\n",
      "\n",
      "origCanonicalizationdeepwalk\n",
      "Distance Summary\n",
      "                count      mean       std       min       25%       50%       75%       max\n",
      "dissimilar_1-3  100.0  0.881703  0.101755  0.517281  0.848498  0.901756  0.960901  1.000000\n",
      "dissimilar_1-4  100.0  0.854925  0.111590  0.506391  0.798489  0.870330  0.934073  1.000000\n",
      "dissimilar_2-3  100.0  0.891406  0.104689  0.563440  0.802242  0.915099  0.993061  1.000000\n",
      "dissimilar_2-4  100.0  0.814795  0.097451  0.367436  0.778978  0.831637  0.867620  1.000000\n",
      "dissimilar_3-1  100.0  0.881703  0.101755  0.517281  0.848498  0.901756  0.960901  1.000000\n",
      "dissimilar_3-2  100.0  0.891406  0.104689  0.563440  0.802242  0.915099  0.993061  1.000000\n",
      "dissimilar_4-1  100.0  0.854925  0.111590  0.506391  0.798489  0.870330  0.934073  1.000000\n",
      "dissimilar_4-2  100.0  0.814795  0.097451  0.367436  0.778978  0.831637  0.867620  1.000000\n",
      "same_1          100.0  0.329585  0.353457  0.000000  0.000000  0.200618  0.557372  1.000000\n",
      "same_2          100.0  0.109586  0.156872  0.000000  0.000000  0.000000  0.243142  0.459955\n",
      "same_3          100.0  0.417787  0.270462  0.000000  0.156385  0.495959  0.639994  0.812697\n",
      "same_4          100.0  0.366361  0.238747  0.000000  0.210292  0.367195  0.566728  0.804731\n",
      "similar_1-2     100.0  0.565146  0.200292  0.003606  0.459203  0.558566  0.638931  1.000000\n",
      "similar_2-1     100.0  0.565146  0.200292  0.003606  0.459203  0.558566  0.638931  1.000000\n",
      "similar_3-4     100.0  0.656550  0.187985  0.151135  0.498680  0.660656  0.820054  1.000000\n",
      "similar_4-3     100.0  0.656550  0.187985  0.151135  0.498680  0.660656  0.820054  1.000000\n",
      "/home/john/Research/EmbeddingGraphs/cfg2vec/data/Images/heatmaps/origCanonicalizationdeepwalk.png\n",
      "\n",
      "partCanonicalizationdeepwalk\n",
      "Distance Summary\n",
      "                count      mean       std       min       25%       50%       75%       max\n",
      "dissimilar_1-3  100.0  0.948336  0.039840  0.859315  0.921165  0.956285  0.983050  1.000000\n",
      "dissimilar_1-4  100.0  0.933858  0.063787  0.757236  0.889723  0.943068  1.000000  1.000000\n",
      "dissimilar_2-3  100.0  0.873455  0.041510  0.779825  0.841818  0.865152  0.903663  0.980126\n",
      "dissimilar_2-4  100.0  0.861309  0.069649  0.646432  0.829038  0.873364  0.902407  0.997748\n",
      "dissimilar_3-1  100.0  0.948336  0.039840  0.859315  0.921165  0.956285  0.983050  1.000000\n",
      "dissimilar_3-2  100.0  0.873455  0.041510  0.779825  0.841818  0.865152  0.903663  0.980126\n",
      "dissimilar_4-1  100.0  0.933858  0.063787  0.757236  0.889723  0.943068  1.000000  1.000000\n",
      "dissimilar_4-2  100.0  0.861309  0.069649  0.646432  0.829038  0.873364  0.902407  0.997748\n",
      "same_1          100.0  0.317068  0.352968  0.000000  0.000000  0.215807  0.461382  1.000000\n",
      "same_2          100.0  0.078465  0.093305  0.000000  0.000000  0.031171  0.179665  0.297946\n",
      "same_3          100.0  0.135766  0.144448  0.000000  0.000000  0.057358  0.274164  0.442725\n",
      "same_4          100.0  0.365769  0.212623  0.000000  0.218166  0.435868  0.562400  0.656149\n",
      "similar_1-2     100.0  0.579271  0.168341  0.220752  0.497281  0.558272  0.632961  1.000000\n",
      "similar_2-1     100.0  0.579271  0.168341  0.220752  0.497281  0.558272  0.632961  1.000000\n",
      "similar_3-4     100.0  0.716314  0.089419  0.473134  0.658479  0.726037  0.779555  0.884832\n",
      "similar_4-3     100.0  0.716314  0.089419  0.473134  0.658479  0.726037  0.779555  0.884832\n",
      "/home/john/Research/EmbeddingGraphs/cfg2vec/data/Images/heatmaps/partCanonicalizationdeepwalk.png\n",
      "\n",
      "FC-deepwalk\n",
      "Distance Summary\n",
      "                count      mean       std       min       25%       50%       75%       max\n",
      "dissimilar_1-3  100.0  0.900000  0.045570  0.802378  0.872064  0.895746  0.932343  1.000000\n",
      "dissimilar_1-4  100.0  0.934366  0.047253  0.830929  0.900366  0.936170  0.973950  1.000000\n",
      "dissimilar_2-3  100.0  0.893184  0.049478  0.786761  0.853605  0.894565  0.924525  1.000000\n",
      "dissimilar_2-4  100.0  0.969039  0.037276  0.848346  0.942607  0.987523  1.000000  1.000000\n",
      "dissimilar_3-1  100.0  0.900000  0.045570  0.802378  0.872064  0.895746  0.932343  1.000000\n",
      "dissimilar_3-2  100.0  0.893184  0.049478  0.786761  0.853605  0.894565  0.924525  1.000000\n",
      "dissimilar_4-1  100.0  0.934366  0.047253  0.830929  0.900366  0.936170  0.973950  1.000000\n",
      "dissimilar_4-2  100.0  0.969039  0.037276  0.848346  0.942607  0.987523  1.000000  1.000000\n",
      "same_1          100.0  0.171497  0.209441  0.000000  0.000000  0.057716  0.333020  0.649255\n",
      "same_2          100.0  0.121238  0.145034  0.000000  0.000000  0.070171  0.197429  0.472380\n",
      "same_3          100.0  0.218798  0.151790  0.000000  0.066844  0.249680  0.311603  0.593969\n",
      "same_4          100.0  0.174875  0.149162  0.000000  0.000000  0.189306  0.307781  0.418543\n",
      "similar_1-2     100.0  0.365971  0.152577  0.000000  0.277936  0.353580  0.423634  0.736274\n",
      "similar_2-1     100.0  0.365971  0.152577  0.000000  0.277936  0.353580  0.423634  0.736274\n",
      "similar_3-4     100.0  0.662836  0.088044  0.416179  0.586205  0.683930  0.730106  0.792219\n",
      "similar_4-3     100.0  0.662836  0.088044  0.416179  0.586205  0.683930  0.730106  0.792219\n",
      "/home/john/Research/EmbeddingGraphs/cfg2vec/data/Images/heatmaps/FC-deepwalk.png\n",
      "\n",
      "LC-deepwalk\n",
      "Distance Summary\n",
      "                count      mean       std       min       25%       50%       75%       max\n",
      "dissimilar_1-3  100.0  0.893941  0.044811  0.815300  0.862876  0.881263  0.931302  1.000000\n",
      "dissimilar_1-4  100.0  0.926037  0.042213  0.803380  0.894719  0.931763  0.961028  1.000000\n",
      "dissimilar_2-3  100.0  0.882541  0.036868  0.810879  0.860295  0.879290  0.905489  0.958715\n",
      "dissimilar_2-4  100.0  0.971336  0.041721  0.842467  0.947856  1.000000  1.000000  1.000000\n",
      "dissimilar_3-1  100.0  0.893941  0.044811  0.815300  0.862876  0.881263  0.931302  1.000000\n",
      "dissimilar_3-2  100.0  0.882541  0.036868  0.810879  0.860295  0.879290  0.905489  0.958715\n",
      "dissimilar_4-1  100.0  0.926037  0.042213  0.803380  0.894719  0.931763  0.961028  1.000000\n",
      "dissimilar_4-2  100.0  0.971336  0.041721  0.842467  0.947856  1.000000  1.000000  1.000000\n",
      "same_1          100.0  0.191412  0.213179  0.000000  0.000000  0.091922  0.296245  0.645438\n",
      "same_2          100.0  0.047985  0.069721  0.000000  0.000000  0.000000  0.081199  0.227084\n",
      "same_3          100.0  0.214701  0.153155  0.000000  0.038498  0.244902  0.307608  0.536918\n",
      "same_4          100.0  0.180356  0.131809  0.000000  0.025084  0.197941  0.296319  0.449017\n",
      "similar_1-2     100.0  0.374581  0.133407  0.079057  0.308288  0.353809  0.419174  0.773722\n",
      "similar_2-1     100.0  0.374581  0.133407  0.079057  0.308288  0.353809  0.419174  0.773722\n",
      "similar_3-4     100.0  0.713048  0.076610  0.487658  0.656370  0.737217  0.769856  0.826827\n",
      "similar_4-3     100.0  0.713048  0.076610  0.487658  0.656370  0.737217  0.769856  0.826827\n",
      "/home/john/Research/EmbeddingGraphs/cfg2vec/data/Images/heatmaps/LC-deepwalk.png\n",
      "\n",
      "NC-deepwalk\n",
      "Distance Summary\n",
      "                count      mean       std       min       25%       50%       75%       max\n",
      "dissimilar_1-3  100.0  0.935181  0.042026  0.805118  0.917486  0.937727  0.967127  1.000000\n",
      "dissimilar_1-4  100.0  0.958946  0.041603  0.819049  0.941549  0.972669  0.987841  1.000000\n",
      "dissimilar_2-3  100.0  0.935776  0.047800  0.816683  0.921165  0.943895  0.970690  1.000000\n",
      "dissimilar_2-4  100.0  0.958417  0.050525  0.814348  0.944414  0.978782  1.000000  1.000000\n",
      "dissimilar_3-1  100.0  0.935181  0.042026  0.805118  0.917486  0.937727  0.967127  1.000000\n",
      "dissimilar_3-2  100.0  0.935776  0.047800  0.816683  0.921165  0.943895  0.970690  1.000000\n",
      "dissimilar_4-1  100.0  0.958946  0.041603  0.819049  0.941549  0.972669  0.987841  1.000000\n",
      "dissimilar_4-2  100.0  0.958417  0.050525  0.814348  0.944414  0.978782  1.000000  1.000000\n",
      "same_1          100.0  0.194844  0.234802  0.000000  0.000000  0.068176  0.304849  0.700101\n",
      "same_2          100.0  0.096258  0.087901  0.000000  0.000000  0.087255  0.160993  0.292706\n",
      "same_3          100.0  0.105462  0.095856  0.000000  0.000000  0.135926  0.176771  0.327213\n",
      "same_4          100.0  0.118033  0.099524  0.000000  0.006422  0.119415  0.171669  0.400269\n",
      "similar_1-2     100.0  0.374842  0.124402  0.176790  0.292384  0.336272  0.409928  0.748208\n",
      "similar_2-1     100.0  0.374842  0.124402  0.176790  0.292384  0.336272  0.409928  0.748208\n",
      "similar_3-4     100.0  0.877709  0.047533  0.764752  0.861471  0.885747  0.902795  0.956196\n",
      "similar_4-3     100.0  0.877709  0.047533  0.764752  0.861471  0.885747  0.902795  0.956196\n",
      "/home/john/Research/EmbeddingGraphs/cfg2vec/data/Images/heatmaps/NC-deepwalk.png\n",
      "\n",
      "VC-deepwalk\n",
      "Distance Summary\n",
      "                count      mean       std       min       25%       50%       75%       max\n",
      "dissimilar_1-3  100.0  0.850229  0.031909  0.761631  0.829514  0.855029  0.871114  0.935272\n",
      "dissimilar_1-4  100.0  0.967384  0.033957  0.861679  0.940496  0.977671  1.000000  1.000000\n",
      "dissimilar_2-3  100.0  0.870677  0.029464  0.776705  0.854116  0.878297  0.890023  0.923817\n",
      "dissimilar_2-4  100.0  0.956592  0.045632  0.830463  0.930427  0.968649  0.998922  1.000000\n",
      "dissimilar_3-1  100.0  0.850229  0.031909  0.761631  0.829514  0.855029  0.871114  0.935272\n",
      "dissimilar_3-2  100.0  0.870677  0.029464  0.776705  0.854116  0.878297  0.890023  0.923817\n",
      "dissimilar_4-1  100.0  0.967384  0.033957  0.861679  0.940496  0.977671  1.000000  1.000000\n",
      "dissimilar_4-2  100.0  0.956592  0.045632  0.830463  0.930427  0.968649  0.998922  1.000000\n",
      "same_1          100.0  0.158213  0.179751  0.000000  0.000000  0.083130  0.259692  0.572822\n",
      "same_2          100.0  0.041829  0.072777  0.000000  0.000000  0.000000  0.079970  0.310631\n",
      "same_3          100.0  0.120923  0.087560  0.000000  0.026294  0.138369  0.192423  0.298743\n",
      "same_4          100.0  0.261023  0.278842  0.000000  0.051074  0.190690  0.273047  0.939074\n",
      "similar_1-2     100.0  0.375770  0.110339  0.098087  0.314774  0.355597  0.418509  0.668860\n",
      "similar_2-1     100.0  0.375770  0.110339  0.098087  0.314774  0.355597  0.418509  0.668860\n",
      "similar_3-4     100.0  0.814520  0.063828  0.709052  0.780316  0.801342  0.831166  1.000000\n",
      "similar_4-3     100.0  0.814520  0.063828  0.709052  0.780316  0.801342  0.831166  1.000000\n",
      "/home/john/Research/EmbeddingGraphs/cfg2vec/data/Images/heatmaps/VC-deepwalk.png\n",
      "\n",
      "fullCanonicalizationnode2vec\n",
      "Distance Summary\n",
      "                count      mean       std       min       25%       50%       75%       max\n",
      "dissimilar_1-3  100.0  0.897901  0.087774  0.670373  0.837789  0.928190  0.961855  1.000000\n",
      "dissimilar_1-4  100.0  0.895085  0.082855  0.641385  0.843960  0.895018  0.969838  1.000000\n",
      "dissimilar_2-3  100.0  0.889684  0.100727  0.611197  0.824829  0.910516  0.983219  1.000000\n",
      "dissimilar_2-4  100.0  0.807110  0.090685  0.623223  0.736032  0.809011  0.866797  0.971211\n",
      "dissimilar_3-1  100.0  0.897901  0.087774  0.670373  0.837789  0.928190  0.961855  1.000000\n",
      "dissimilar_3-2  100.0  0.889684  0.100727  0.611197  0.824829  0.910516  0.983219  1.000000\n",
      "dissimilar_4-1  100.0  0.895085  0.082855  0.641385  0.843960  0.895018  0.969838  1.000000\n",
      "dissimilar_4-2  100.0  0.807110  0.090685  0.623223  0.736032  0.809011  0.866797  0.971211\n",
      "same_1          100.0  0.332394  0.326304  0.000000  0.000000  0.314513  0.608008  0.965433\n",
      "same_2          100.0  0.132553  0.152834  0.000000  0.000000  0.065619  0.275290  0.554230\n",
      "same_3          100.0  0.336229  0.323019  0.000000  0.000000  0.221734  0.696813  0.843707\n",
      "same_4          100.0  0.392934  0.255964  0.000000  0.181967  0.462383  0.629722  0.741745\n",
      "similar_1-2     100.0  0.601546  0.177991  0.048480  0.525546  0.592147  0.661703  1.000000\n",
      "similar_2-1     100.0  0.601546  0.177991  0.048480  0.525546  0.592147  0.661703  1.000000\n",
      "similar_3-4     100.0  0.732413  0.131036  0.300597  0.629420  0.716573  0.817656  0.988388\n",
      "similar_4-3     100.0  0.732413  0.131036  0.300597  0.629420  0.716573  0.817656  0.988388\n",
      "/home/john/Research/EmbeddingGraphs/cfg2vec/data/Images/heatmaps/fullCanonicalizationnode2vec.png\n",
      "\n",
      "noneCanonicalizationnode2vec\n",
      "Distance Summary\n",
      "                count      mean       std       min       25%       50%       75%       max\n",
      "dissimilar_1-3  100.0  0.922877  0.057082  0.786973  0.883317  0.922579  0.974660  1.000000\n",
      "dissimilar_1-4  100.0  0.949816  0.057380  0.773831  0.907560  0.970635  1.000000  1.000000\n",
      "dissimilar_2-3  100.0  0.885661  0.063588  0.749724  0.841921  0.876487  0.930087  1.000000\n",
      "dissimilar_2-4  100.0  0.889116  0.068848  0.726967  0.836257  0.887711  0.953664  1.000000\n",
      "dissimilar_3-1  100.0  0.922877  0.057082  0.786973  0.883317  0.922579  0.974660  1.000000\n",
      "dissimilar_3-2  100.0  0.885661  0.063588  0.749724  0.841921  0.876487  0.930087  1.000000\n",
      "dissimilar_4-1  100.0  0.949816  0.057380  0.773831  0.907560  0.970635  1.000000  1.000000\n",
      "dissimilar_4-2  100.0  0.889116  0.068848  0.726967  0.836257  0.887711  0.953664  1.000000\n",
      "same_1          100.0  0.233261  0.226787  0.000000  0.000000  0.178120  0.404211  0.645170\n",
      "same_2          100.0  0.185510  0.196845  0.000000  0.000000  0.135764  0.391935  0.568464\n",
      "same_3          100.0  0.195468  0.197621  0.000000  0.000000  0.125742  0.397218  0.551333\n",
      "same_4          100.0  0.306725  0.254223  0.000000  0.000407  0.306079  0.543115  0.697165\n",
      "similar_1-2     100.0  0.507328  0.104034  0.213042  0.441331  0.504521  0.576536  0.757341\n",
      "similar_2-1     100.0  0.507328  0.104034  0.213042  0.441331  0.504521  0.576536  0.757341\n",
      "similar_3-4     100.0  0.817178  0.098790  0.471143  0.746554  0.820837  0.888747  0.997257\n",
      "similar_4-3     100.0  0.817178  0.098790  0.471143  0.746554  0.820837  0.888747  0.997257\n",
      "/home/john/Research/EmbeddingGraphs/cfg2vec/data/Images/heatmaps/noneCanonicalizationnode2vec.png\n",
      "\n",
      "origCanonicalizationnode2vec\n",
      "Distance Summary\n",
      "                count      mean       std       min       25%       50%       75%       max\n",
      "dissimilar_1-3  100.0  0.873006  0.082777  0.652196  0.822661  0.875231  0.929766  1.000000\n",
      "dissimilar_1-4  100.0  0.852980  0.088962  0.595685  0.796458  0.862823  0.917466  1.000000\n",
      "dissimilar_2-3  100.0  0.918336  0.072315  0.764698  0.859388  0.936290  0.988634  1.000000\n",
      "dissimilar_2-4  100.0  0.773701  0.091571  0.445797  0.731932  0.779010  0.834576  0.977558\n",
      "dissimilar_3-1  100.0  0.873006  0.082777  0.652196  0.822661  0.875231  0.929766  1.000000\n",
      "dissimilar_3-2  100.0  0.918336  0.072315  0.764698  0.859388  0.936290  0.988634  1.000000\n",
      "dissimilar_4-1  100.0  0.852980  0.088962  0.595685  0.796458  0.862823  0.917466  1.000000\n",
      "dissimilar_4-2  100.0  0.773701  0.091571  0.445797  0.731932  0.779010  0.834576  0.977558\n",
      "same_1          100.0  0.339202  0.348510  0.000000  0.000000  0.271992  0.587546  0.978850\n",
      "same_2          100.0  0.140480  0.178236  0.000000  0.000000  0.000000  0.311417  0.555412\n",
      "same_3          100.0  0.398889  0.259044  0.000000  0.195719  0.421914  0.633576  0.802995\n",
      "same_4          100.0  0.247213  0.198328  0.000000  0.075764  0.239940  0.415299  0.627923\n",
      "similar_1-2     100.0  0.595259  0.180563  0.033402  0.505868  0.588560  0.667201  1.000000\n",
      "similar_2-1     100.0  0.595259  0.180563  0.033402  0.505868  0.588560  0.667201  1.000000\n",
      "similar_3-4     100.0  0.763016  0.170441  0.235313  0.610388  0.790208  0.908067  1.000000\n",
      "similar_4-3     100.0  0.763016  0.170441  0.235313  0.610388  0.790208  0.908067  1.000000\n",
      "/home/john/Research/EmbeddingGraphs/cfg2vec/data/Images/heatmaps/origCanonicalizationnode2vec.png\n",
      "\n",
      "partCanonicalizationnode2vec\n",
      "Distance Summary\n",
      "                count      mean       std       min       25%       50%       75%       max\n",
      "dissimilar_1-3  100.0  0.966410  0.046410  0.790671  0.942935  0.999155  1.000000  1.000000\n",
      "dissimilar_1-4  100.0  0.851680  0.067714  0.567939  0.811876  0.852572  0.898451  1.000000\n",
      "dissimilar_2-3  100.0  0.852039  0.065223  0.711416  0.813571  0.857741  0.904191  0.963435\n",
      "dissimilar_2-4  100.0  0.862134  0.078716  0.648021  0.817500  0.864116  0.921105  1.000000\n",
      "dissimilar_3-1  100.0  0.966410  0.046410  0.790671  0.942935  0.999155  1.000000  1.000000\n",
      "dissimilar_3-2  100.0  0.852039  0.065223  0.711416  0.813571  0.857741  0.904191  0.963435\n",
      "dissimilar_4-1  100.0  0.851680  0.067714  0.567939  0.811876  0.852572  0.898451  1.000000\n",
      "dissimilar_4-2  100.0  0.862134  0.078716  0.648021  0.817500  0.864116  0.921105  1.000000\n",
      "same_1          100.0  0.338485  0.336583  0.000000  0.000000  0.287072  0.585099  0.987943\n",
      "same_2          100.0  0.115405  0.134474  0.000000  0.000000  0.035093  0.244674  0.423529\n",
      "same_3          100.0  0.200486  0.203642  0.000000  0.000000  0.104041  0.424608  0.545830\n",
      "same_4          100.0  0.341252  0.247073  0.000000  0.086441  0.418215  0.580868  0.709651\n",
      "similar_1-2     100.0  0.647183  0.120123  0.318425  0.591436  0.641260  0.672441  1.000000\n",
      "similar_2-1     100.0  0.647183  0.120123  0.318425  0.591436  0.641260  0.672441  1.000000\n",
      "similar_3-4     100.0  0.754623  0.138867  0.322102  0.659086  0.773041  0.858021  1.000000\n",
      "similar_4-3     100.0  0.754623  0.138867  0.322102  0.659086  0.773041  0.858021  1.000000\n",
      "/home/john/Research/EmbeddingGraphs/cfg2vec/data/Images/heatmaps/partCanonicalizationnode2vec.png\n",
      "\n",
      "FC-node2vec\n",
      "Distance Summary\n",
      "                count      mean       std       min       25%       50%       75%       max\n",
      "dissimilar_1-3  100.0  0.889775  0.082804  0.646676  0.839919  0.906372  0.950944  1.000000\n",
      "dissimilar_1-4  100.0  0.920327  0.067856  0.698099  0.877678  0.936190  0.972751  1.000000\n",
      "dissimilar_2-3  100.0  0.903458  0.071260  0.662912  0.867990  0.910817  0.958919  1.000000\n",
      "dissimilar_2-4  100.0  0.933146  0.057774  0.761430  0.891646  0.943438  0.986129  1.000000\n",
      "dissimilar_3-1  100.0  0.889775  0.082804  0.646676  0.839919  0.906372  0.950944  1.000000\n",
      "dissimilar_3-2  100.0  0.903458  0.071260  0.662912  0.867990  0.910817  0.958919  1.000000\n",
      "dissimilar_4-1  100.0  0.920327  0.067856  0.698099  0.877678  0.936190  0.972751  1.000000\n",
      "dissimilar_4-2  100.0  0.933146  0.057774  0.761430  0.891646  0.943438  0.986129  1.000000\n",
      "same_1          100.0  0.172857  0.197925  0.000000  0.000000  0.086566  0.369717  0.560269\n",
      "same_2          100.0  0.165779  0.174249  0.000000  0.000000  0.137360  0.263443  0.614178\n",
      "same_3          100.0  0.235837  0.178032  0.000000  0.020516  0.264500  0.362034  0.659593\n",
      "same_4          100.0  0.217658  0.188443  0.000000  0.000000  0.226945  0.390103  0.536665\n",
      "similar_1-2     100.0  0.386005  0.160701  0.000000  0.286556  0.388450  0.464020  0.746536\n",
      "similar_2-1     100.0  0.386005  0.160701  0.000000  0.286556  0.388450  0.464020  0.746536\n",
      "similar_3-4     100.0  0.722819  0.095301  0.461381  0.660292  0.735097  0.790143  0.914566\n",
      "similar_4-3     100.0  0.722819  0.095301  0.461381  0.660292  0.735097  0.790143  0.914566\n",
      "/home/john/Research/EmbeddingGraphs/cfg2vec/data/Images/heatmaps/FC-node2vec.png\n",
      "\n",
      "LC-node2vec\n",
      "Distance Summary\n",
      "                count      mean       std       min       25%       50%       75%       max\n",
      "dissimilar_1-3  100.0  0.949805  0.041229  0.840875  0.913960  0.953635  0.987152  1.000000\n",
      "dissimilar_1-4  100.0  0.947967  0.043613  0.842388  0.926040  0.954616  0.987469  1.000000\n",
      "dissimilar_2-3  100.0  0.916482  0.043531  0.821026  0.890528  0.923849  0.944984  1.000000\n",
      "dissimilar_2-4  100.0  0.927600  0.052017  0.809559  0.886871  0.930007  0.973308  1.000000\n",
      "dissimilar_3-1  100.0  0.949805  0.041229  0.840875  0.913960  0.953635  0.987152  1.000000\n",
      "dissimilar_3-2  100.0  0.916482  0.043531  0.821026  0.890528  0.923849  0.944984  1.000000\n",
      "dissimilar_4-1  100.0  0.947967  0.043613  0.842388  0.926040  0.954616  0.987469  1.000000\n",
      "dissimilar_4-2  100.0  0.927600  0.052017  0.809559  0.886871  0.930007  0.973308  1.000000\n",
      "same_1          100.0  0.201527  0.196626  0.000000  0.000000  0.135121  0.370312  0.619527\n",
      "same_2          100.0  0.081598  0.106463  0.000000  0.000000  0.002639  0.147812  0.322187\n",
      "same_3          100.0  0.259782  0.203152  0.000000  0.002346  0.303170  0.428778  0.704212\n",
      "same_4          100.0  0.240337  0.187947  0.000000  0.000000  0.244384  0.414388  0.602959\n",
      "similar_1-2     100.0  0.385328  0.150644  0.000000  0.301997  0.389658  0.451164  0.747836\n",
      "similar_2-1     100.0  0.385328  0.150644  0.000000  0.301997  0.389658  0.451164  0.747836\n",
      "similar_3-4     100.0  0.753590  0.092312  0.470375  0.680566  0.768832  0.814353  0.956270\n",
      "similar_4-3     100.0  0.753590  0.092312  0.470375  0.680566  0.768832  0.814353  0.956270\n",
      "/home/john/Research/EmbeddingGraphs/cfg2vec/data/Images/heatmaps/LC-node2vec.png\n",
      "\n",
      "NC-node2vec\n",
      "Distance Summary\n",
      "                count      mean       std       min       25%       50%       75%       max\n",
      "dissimilar_1-3  100.0  0.882695  0.050798  0.748283  0.846839  0.880160  0.924360  0.993736\n",
      "dissimilar_1-4  100.0  0.973003  0.040756  0.832317  0.954532  1.000000  1.000000  1.000000\n",
      "dissimilar_2-3  100.0  0.855768  0.057096  0.738216  0.817563  0.852190  0.890660  1.000000\n",
      "dissimilar_2-4  100.0  0.919006  0.044868  0.822724  0.884422  0.911056  0.962501  1.000000\n",
      "dissimilar_3-1  100.0  0.882695  0.050798  0.748283  0.846839  0.880160  0.924360  0.993736\n",
      "dissimilar_3-2  100.0  0.855768  0.057096  0.738216  0.817563  0.852190  0.890660  1.000000\n",
      "dissimilar_4-1  100.0  0.973003  0.040756  0.832317  0.954532  1.000000  1.000000  1.000000\n",
      "dissimilar_4-2  100.0  0.919006  0.044868  0.822724  0.884422  0.911056  0.962501  1.000000\n",
      "same_1          100.0  0.169309  0.193895  0.000000  0.000000  0.099404  0.298566  0.614526\n",
      "same_2          100.0  0.109008  0.109439  0.000000  0.000000  0.106873  0.192892  0.430482\n",
      "same_3          100.0  0.147715  0.119812  0.000000  0.000000  0.165553  0.250227  0.406578\n",
      "same_4          100.0  0.150870  0.126144  0.000000  0.002770  0.154385  0.259536  0.428702\n",
      "similar_1-2     100.0  0.390428  0.121750  0.171852  0.328415  0.371192  0.430252  0.752262\n",
      "similar_2-1     100.0  0.390428  0.121750  0.171852  0.328415  0.371192  0.430252  0.752262\n",
      "similar_3-4     100.0  0.816207  0.067461  0.631816  0.786009  0.820651  0.862955  0.959010\n",
      "similar_4-3     100.0  0.816207  0.067461  0.631816  0.786009  0.820651  0.862955  0.959010\n",
      "/home/john/Research/EmbeddingGraphs/cfg2vec/data/Images/heatmaps/NC-node2vec.png\n",
      "\n",
      "VC-node2vec\n",
      "Distance Summary\n",
      "                count      mean       std       min       25%       50%       75%       max\n",
      "dissimilar_1-3  100.0  0.921821  0.073868  0.720630  0.882908  0.940920  0.985346  1.000000\n",
      "dissimilar_1-4  100.0  0.944504  0.059451  0.746750  0.909872  0.957275  1.000000  1.000000\n",
      "dissimilar_2-3  100.0  0.912529  0.075195  0.708970  0.858805  0.926060  0.979775  1.000000\n",
      "dissimilar_2-4  100.0  0.900138  0.059558  0.726937  0.857379  0.904918  0.951666  1.000000\n",
      "dissimilar_3-1  100.0  0.921821  0.073868  0.720630  0.882908  0.940920  0.985346  1.000000\n",
      "dissimilar_3-2  100.0  0.912529  0.075195  0.708970  0.858805  0.926060  0.979775  1.000000\n",
      "dissimilar_4-1  100.0  0.944504  0.059451  0.746750  0.909872  0.957275  1.000000  1.000000\n",
      "dissimilar_4-2  100.0  0.900138  0.059558  0.726937  0.857379  0.904918  0.951666  1.000000\n",
      "same_1          100.0  0.186008  0.189396  0.000000  0.000000  0.149006  0.341499  0.600738\n",
      "same_2          100.0  0.057450  0.089393  0.000000  0.000000  0.000000  0.124139  0.387303\n",
      "same_3          100.0  0.179807  0.128396  0.000000  0.081138  0.190887  0.264332  0.443911\n",
      "same_4          100.0  0.264693  0.260615  0.000000  0.047674  0.226896  0.322962  0.892177\n",
      "similar_1-2     100.0  0.433145  0.139846  0.141555  0.343586  0.424170  0.480457  0.811296\n",
      "similar_2-1     100.0  0.433145  0.139846  0.141555  0.343586  0.424170  0.480457  0.811296\n",
      "similar_3-4     100.0  0.791545  0.089703  0.602235  0.744330  0.782875  0.827101  1.000000\n",
      "similar_4-3     100.0  0.791545  0.089703  0.602235  0.744330  0.782875  0.827101  1.000000\n",
      "/home/john/Research/EmbeddingGraphs/cfg2vec/data/Images/heatmaps/VC-node2vec.png\n"
     ]
    },
    {
     "data": {
      "text/plain": "<Figure size 432x288 with 0 Axes>"
     },
     "metadata": {},
     "output_type": "display_data"
    }
   ],
   "source": [
    "heatmap_dir = data_dir / 'Images' / 'heatmaps'\n",
    "heatmap_dir.mkdir(parents=True, exist_ok=True)\n",
    "for file, size, lstr in vector_files:\n",
    "    print()\n",
    "    print(file.stem)\n",
    "    heat_map(pd.read_csv(file), size, heatmap_dir / f'{file.stem}.png', lstr)"
   ]
  },
  {
   "cell_type": "markdown",
   "id": "7c538f8a",
   "metadata": {
    "pycharm": {
     "name": "#%% md\n"
    }
   },
   "source": [
    "Useful regex to extract results to table `(.*?)\\s+([\\d\\.]+)?(NaN)?\\s+([\\d\\.]+)?(NaN)?\\s+(\\(.*\\))?(NaN)?`"
   ]
  },
  {
   "cell_type": "code",
   "execution_count": null,
   "outputs": [],
   "source": [
    "foo = \"12345\"\n",
    "bar = \"12\"\n",
    "foo[len(bar):]"
   ],
   "metadata": {
    "collapsed": false,
    "pycharm": {
     "name": "#%%\n"
    }
   }
  },
  {
   "cell_type": "code",
   "execution_count": null,
   "outputs": [],
   "source": [],
   "metadata": {
    "collapsed": false,
    "pycharm": {
     "name": "#%%\n"
    }
   }
  }
 ],
 "metadata": {
  "kernelspec": {
   "display_name": "Python 3 (ipykernel)",
   "language": "python",
   "name": "python3"
  },
  "language_info": {
   "codemirror_mode": {
    "name": "ipython",
    "version": 3
   },
   "file_extension": ".py",
   "mimetype": "text/x-python",
   "name": "python",
   "nbconvert_exporter": "python",
   "pygments_lexer": "ipython3",
   "version": "3.9.12"
  }
 },
 "nbformat": 4,
 "nbformat_minor": 5
}